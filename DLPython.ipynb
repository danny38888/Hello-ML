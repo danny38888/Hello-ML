{
  "nbformat": 4,
  "nbformat_minor": 0,
  "metadata": {
    "colab": {
      "name": "Untitled0.ipynb",
      "version": "0.3.2",
      "provenance": [],
      "collapsed_sections": [],
      "include_colab_link": true
    },
    "kernelspec": {
      "name": "python3",
      "display_name": "Python 3"
    },
    "accelerator": "GPU"
  },
  "cells": [
    {
      "cell_type": "markdown",
      "metadata": {
        "id": "view-in-github",
        "colab_type": "text"
      },
      "source": [
        "[View in Colaboratory](https://colab.research.google.com/github/danny38888/Hello-ML/blob/master/DLPython.ipynb)"
      ]
    },
    {
      "metadata": {
        "id": "fRgkmHUh3pX4",
        "colab_type": "code",
        "colab": {
          "base_uri": "https://localhost:8080/",
          "height": 35
        },
        "outputId": "4aeae85f-30a3-4b06-a0ee-80b87e96e9d8"
      },
      "cell_type": "code",
      "source": [
        "# Example of Theano library\n",
        "import theano\n",
        "from theano import tensor\n",
        "# declare two symbolic floating-point scalars\n",
        "a = tensor.dscalar()\n",
        "b = tensor.dscalar()\n",
        "# create a simple symbolic expression\n",
        "c = a + b\n",
        "# convert the expression into a callable object that takes (a,b) and computes c\n",
        "f = theano.function([a,b], c)\n",
        "# bind 1.5 to 'a', 2.5 to 'b', and evaluate 'c'\n",
        "result = f(1.5, 2.5)\n",
        "print(result)"
      ],
      "execution_count": 3,
      "outputs": [
        {
          "output_type": "stream",
          "text": [
            "4.0\n"
          ],
          "name": "stdout"
        }
      ]
    },
    {
      "metadata": {
        "id": "rgs0_ZrE8cOS",
        "colab_type": "code",
        "colab": {
          "base_uri": "https://localhost:8080/",
          "height": 245
        },
        "outputId": "2459ce84-8340-4a5b-bb55-435f7addbfa1"
      },
      "cell_type": "code",
      "source": [
        "!pip install Theano\n"
      ],
      "execution_count": 2,
      "outputs": [
        {
          "output_type": "stream",
          "text": [
            "Collecting Theano\n",
            "\u001b[?25l  Downloading https://files.pythonhosted.org/packages/99/dd/e43e3da5dd52f1468def552ed3e752bfd6958369478cc906ff07b21af92e/Theano-1.0.2.tar.gz (2.8MB)\n",
            "\u001b[K    100% |████████████████████████████████| 2.8MB 8.9MB/s \n",
            "\u001b[?25hRequirement already satisfied: numpy>=1.9.1 in /usr/local/lib/python3.6/dist-packages (from Theano) (1.14.5)\n",
            "Requirement already satisfied: scipy>=0.14 in /usr/local/lib/python3.6/dist-packages (from Theano) (0.19.1)\n",
            "Requirement already satisfied: six>=1.9.0 in /usr/local/lib/python3.6/dist-packages (from Theano) (1.11.0)\n",
            "Building wheels for collected packages: Theano\n",
            "  Running setup.py bdist_wheel for Theano ... \u001b[?25l-\b \b\\\b \b|\b \b/\b \b-\b \b\\\b \b|\b \b/\b \bdone\n",
            "\u001b[?25h  Stored in directory: /content/.cache/pip/wheels/87/1e/28/4a63195927452fb42d4ea6d1e5b3b1690409d66802cc9e1e6e\n",
            "Successfully built Theano\n",
            "Installing collected packages: Theano\n",
            "Successfully installed Theano-1.0.2\n"
          ],
          "name": "stdout"
        }
      ]
    },
    {
      "metadata": {
        "id": "oNt4wau1-9QN",
        "colab_type": "code",
        "colab": {
          "base_uri": "https://localhost:8080/",
          "height": 218
        },
        "outputId": "fea811ae-f9e4-43a9-cada-14358104116b"
      },
      "cell_type": "code",
      "source": [
        "# Example of TensorFlow library\n",
        "import tensorflow as tf\n",
        "# declare two symbolic floating-point scalars\n",
        "a = tf.placeholder(tf.float32)\n",
        "b = tf.placeholder(tf.float32)\n",
        "# create a simple symbolic expression using the add function\n",
        "add = tf.add(a, b)\n",
        "# bind 1.5 to 'a', 2.5 to 'b', and evaluate 'c'\n",
        "sess = tf.Session()\n",
        "binding = {a: 1.5, b: 2.5}\n",
        "c = sess.run(mul, feed_dict=binding)\n",
        "print(c)"
      ],
      "execution_count": 8,
      "outputs": [
        {
          "output_type": "error",
          "ename": "NameError",
          "evalue": "ignored",
          "traceback": [
            "\u001b[0;31m---------------------------------------------------------------------------\u001b[0m",
            "\u001b[0;31mNameError\u001b[0m                                 Traceback (most recent call last)",
            "\u001b[0;32m<ipython-input-8-6d8cb3b185db>\u001b[0m in \u001b[0;36m<module>\u001b[0;34m()\u001b[0m\n\u001b[1;32m      8\u001b[0m \u001b[0msess\u001b[0m \u001b[0;34m=\u001b[0m \u001b[0mtf\u001b[0m\u001b[0;34m.\u001b[0m\u001b[0mSession\u001b[0m\u001b[0;34m(\u001b[0m\u001b[0;34m)\u001b[0m\u001b[0;34m\u001b[0m\u001b[0m\n\u001b[1;32m      9\u001b[0m \u001b[0mbinding\u001b[0m \u001b[0;34m=\u001b[0m \u001b[0;34m{\u001b[0m\u001b[0ma\u001b[0m\u001b[0;34m:\u001b[0m \u001b[0;36m1.5\u001b[0m\u001b[0;34m,\u001b[0m \u001b[0mb\u001b[0m\u001b[0;34m:\u001b[0m \u001b[0;36m2.5\u001b[0m\u001b[0;34m}\u001b[0m\u001b[0;34m\u001b[0m\u001b[0m\n\u001b[0;32m---> 10\u001b[0;31m \u001b[0mc\u001b[0m \u001b[0;34m=\u001b[0m \u001b[0msess\u001b[0m\u001b[0;34m.\u001b[0m\u001b[0mrun\u001b[0m\u001b[0;34m(\u001b[0m\u001b[0mmul\u001b[0m\u001b[0;34m,\u001b[0m \u001b[0mfeed_dict\u001b[0m\u001b[0;34m=\u001b[0m\u001b[0mbinding\u001b[0m\u001b[0;34m)\u001b[0m\u001b[0;34m\u001b[0m\u001b[0m\n\u001b[0m\u001b[1;32m     11\u001b[0m \u001b[0mprint\u001b[0m\u001b[0;34m(\u001b[0m\u001b[0mc\u001b[0m\u001b[0;34m)\u001b[0m\u001b[0;34m\u001b[0m\u001b[0m\n",
            "\u001b[0;31mNameError\u001b[0m: name 'mul' is not defined"
          ]
        }
      ]
    },
    {
      "metadata": {
        "id": "DaCScCxyAGMg",
        "colab_type": "code",
        "colab": {
          "base_uri": "https://localhost:8080/",
          "height": 193
        },
        "outputId": "996bb629-7a0e-4f9a-f7cb-14f54b362787"
      },
      "cell_type": "code",
      "source": [
        "!pip install gspread"
      ],
      "execution_count": 9,
      "outputs": [
        {
          "output_type": "stream",
          "text": [
            "Collecting gspread\n",
            "  Downloading https://files.pythonhosted.org/packages/95/35/c71e32929d1ce56dee17f3e51d167067c8361b87391140ceb1e50bece12b/gspread-3.0.1-py3-none-any.whl\n",
            "Requirement already satisfied: requests>=2.2.1 in /usr/local/lib/python3.6/dist-packages (from gspread) (2.18.4)\n",
            "Requirement already satisfied: chardet<3.1.0,>=3.0.2 in /usr/local/lib/python3.6/dist-packages (from requests>=2.2.1->gspread) (3.0.4)\n",
            "Requirement already satisfied: urllib3<1.23,>=1.21.1 in /usr/local/lib/python3.6/dist-packages (from requests>=2.2.1->gspread) (1.22)\n",
            "Requirement already satisfied: certifi>=2017.4.17 in /usr/local/lib/python3.6/dist-packages (from requests>=2.2.1->gspread) (2018.4.16)\n",
            "Requirement already satisfied: idna<2.7,>=2.5 in /usr/local/lib/python3.6/dist-packages (from requests>=2.2.1->gspread) (2.6)\n",
            "Installing collected packages: gspread\n",
            "Successfully installed gspread-3.0.1\n"
          ],
          "name": "stdout"
        }
      ]
    },
    {
      "metadata": {
        "id": "5b9CJO0yPNfn",
        "colab_type": "code",
        "colab": {
          "base_uri": "https://localhost:8080/",
          "height": 280
        },
        "outputId": "8aff558a-21a5-480e-8211-1c58b978b982"
      },
      "cell_type": "code",
      "source": [
        "# Simple CNN for the MNIST Dataset\n",
        "import numpy\n",
        "from keras.datasets import mnist\n",
        "from keras.models import Sequential\n",
        "from keras.layers import Dense\n",
        "from keras.layers import Dropout\n",
        "from keras.layers import Flatten\n",
        "from keras.layers.convolutional import Conv2D\n",
        "from keras.layers.convolutional import MaxPooling2D\n",
        "from keras.utils import np_utils\n",
        "# fix dimension ordering issue\n",
        "from keras import backend as K\n",
        "K.set_image_dim_ordering('th')\n",
        "# fix random seed for reproducibility\n",
        "seed = 7\n",
        "numpy.random.seed(seed)\n",
        "# load data\n",
        "(X_train, y_train), (X_test, y_test) = mnist.load_data()\n",
        "# reshape to be [samples][channels][width][height]\n",
        "X_train = X_train.reshape(X_train.shape[0], 1, 28, 28).astype('float32')\n",
        "X_test = X_test.reshape(X_test.shape[0], 1, 28, 28).astype('float32')\n",
        "# normalize inputs from 0-255 to 0-1\n",
        "X_train = X_train / 255\n",
        "X_test = X_test / 255\n",
        "# one hot encode outputs\n",
        "y_train = np_utils.to_categorical(y_train)\n",
        "y_test = np_utils.to_categorical(y_test)\n",
        "num_classes = y_test.shape[1]\n",
        "# define a simple CNN model\n",
        "def baseline_model():\n",
        "\t# create model\n",
        "\tmodel = Sequential()\n",
        "\tmodel.add(Conv2D(32, (5, 5), input_shape=(1, 28, 28), activation='relu'))\n",
        "\tmodel.add(MaxPooling2D(pool_size=(2, 2)))\n",
        "\tmodel.add(Dropout(0.2))\n",
        "\tmodel.add(Flatten())\n",
        "\tmodel.add(Dense(128, activation='relu'))\n",
        "\tmodel.add(Dense(num_classes, activation='softmax'))\n",
        "\t# Compile model\n",
        "\tmodel.compile(loss='categorical_crossentropy', optimizer='adam', metrics=['accuracy'])\n",
        "\treturn model\n",
        "# build the model\n",
        "model = baseline_model()\n",
        "# Fit the model\n",
        "model.fit(X_train, y_train, validation_data=(X_test, y_test), epochs=10, batch_size=200)\n",
        "# Final evaluation of the model\n",
        "scores = model.evaluate(X_test, y_test, verbose=0)\n",
        "print(\"CNN Error: %.2f%%\" % (100-scores[1]*100))\n"
      ],
      "execution_count": 0,
      "outputs": [
        {
          "output_type": "stream",
          "text": [
            "Using TensorFlow backend.\n"
          ],
          "name": "stderr"
        },
        {
          "output_type": "stream",
          "text": [
            "Downloading data from https://s3.amazonaws.com/img-datasets/mnist.npz\n",
            "11493376/11490434 [==============================] - 3s 0us/step\n",
            "Train on 60000 samples, validate on 10000 samples\n",
            "Epoch 1/10\n",
            "60000/60000 [==============================] - 245s 4ms/step - loss: 0.2315 - acc: 0.9342 - val_loss: 0.0816 - val_acc: 0.9747\n",
            "Epoch 2/10\n",
            " 3600/60000 [>.............................] - ETA: 3:30 - loss: 0.0782 - acc: 0.9769"
          ],
          "name": "stdout"
        },
        {
          "output_type": "stream",
          "text": [
            "60000/60000 [==============================] - 246s 4ms/step - loss: 0.0737 - acc: 0.9783 - val_loss: 0.0472 - val_acc: 0.9842\n",
            "Epoch 3/10\n",
            "60000/60000 [==============================] - 245s 4ms/step - loss: 0.0530 - acc: 0.9837 - val_loss: 0.0429 - val_acc: 0.9859\n",
            "Epoch 4/10\n",
            " 4800/60000 [=>............................] - ETA: 3:25 - loss: 0.0355 - acc: 0.9892"
          ],
          "name": "stdout"
        },
        {
          "output_type": "stream",
          "text": [
            "60000/60000 [==============================] - 244s 4ms/step - loss: 0.0402 - acc: 0.9875 - val_loss: 0.0404 - val_acc: 0.9866\n",
            "Epoch 5/10\n",
            "45600/60000 [=====================>........] - ETA: 53s - loss: 0.0339 - acc: 0.9894"
          ],
          "name": "stdout"
        }
      ]
    },
    {
      "metadata": {
        "id": "wVetnzpnyh-T",
        "colab_type": "code",
        "colab": {
          "base_uri": "https://localhost:8080/",
          "height": 73
        },
        "outputId": "0ba3b69c-10a9-42fa-e919-89b752f0f3d0"
      },
      "cell_type": "code",
      "source": [
        "from google.colab import files\n",
        "uploaded = files.upload()"
      ],
      "execution_count": 2,
      "outputs": [
        {
          "output_type": "display_data",
          "data": {
            "text/html": [
              "\n",
              "     <input type=\"file\" id=\"files-df26b9b0-98a6-4b6e-bc08-220488cb0ad3\" name=\"files[]\" multiple disabled />\n",
              "     <output id=\"result-df26b9b0-98a6-4b6e-bc08-220488cb0ad3\">\n",
              "      Upload widget is only available when the cell has been executed in the\n",
              "      current browser session. Please rerun this cell to enable.\n",
              "      </output>\n",
              "      <script src=\"/nbextensions/google.colab/files.js\"></script> "
            ],
            "text/plain": [
              "<IPython.core.display.HTML object>"
            ]
          },
          "metadata": {
            "tags": []
          }
        },
        {
          "output_type": "stream",
          "text": [
            "Saving pima-indians-diabetes.csv to pima-indians-diabetes.csv\n"
          ],
          "name": "stdout"
        }
      ]
    },
    {
      "metadata": {
        "id": "YZhj68tH9tbO",
        "colab_type": "code",
        "colab": {
          "base_uri": "https://localhost:8080/",
          "height": 5289
        },
        "outputId": "bb1ac295-1b8f-43be-dc3b-f7f033bc6704"
      },
      "cell_type": "code",
      "source": [
        "# Create your first MLP in Keras\n",
        "from keras.models import Sequential\n",
        "from keras.layers import Dense\n",
        "import numpy\n",
        "# fix random seed for reproducibility\n",
        "numpy.random.seed(7)\n",
        "# load pima indians dataset\n",
        "dataset = numpy.loadtxt(\"pima-indians-diabetes.csv\", delimiter=\",\")\n",
        "# split into input (X) and output (Y) variables\n",
        "X = dataset[:,0:8]\n",
        "Y = dataset[:,8]\n",
        "# create model\n",
        "model = Sequential()\n",
        "model.add(Dense(12, input_dim=8, activation='relu'))\n",
        "model.add(Dense(8, activation='relu'))\n",
        "model.add(Dense(1, activation='sigmoid'))\n",
        "# Compile model\n",
        "model.compile(loss='binary_crossentropy', optimizer='adam', metrics=['accuracy'])\n",
        "# Fit the model\n",
        "model.fit(X, Y, epochs=150, batch_size=10)\n",
        "# evaluate the model\n",
        "scores = model.evaluate(X, Y)\n",
        "print(\"\\n%s: %.2f%%\" % (model.metrics_names[1], scores[1]*100))"
      ],
      "execution_count": 3,
      "outputs": [
        {
          "output_type": "stream",
          "text": [
            "Epoch 1/150\n",
            "768/768 [==============================] - 2s 2ms/step - loss: 3.7048 - acc: 0.5977\n",
            "Epoch 2/150\n",
            "768/768 [==============================] - 1s 807us/step - loss: 0.9408 - acc: 0.5885\n",
            "Epoch 3/150\n",
            "768/768 [==============================] - 1s 794us/step - loss: 0.7518 - acc: 0.6432\n",
            "Epoch 4/150\n",
            "768/768 [==============================] - 1s 836us/step - loss: 0.7113 - acc: 0.6628\n",
            "Epoch 5/150\n",
            "768/768 [==============================] - 1s 844us/step - loss: 0.6812 - acc: 0.6745\n",
            "Epoch 6/150\n",
            "768/768 [==============================] - 1s 791us/step - loss: 0.6503 - acc: 0.6810\n",
            "Epoch 7/150\n",
            "768/768 [==============================] - 1s 818us/step - loss: 0.6493 - acc: 0.6719\n",
            "Epoch 8/150\n",
            "768/768 [==============================] - 1s 817us/step - loss: 0.6366 - acc: 0.6849\n",
            "Epoch 9/150\n",
            "768/768 [==============================] - 1s 837us/step - loss: 0.6242 - acc: 0.6914\n",
            "Epoch 10/150\n",
            "768/768 [==============================] - 1s 816us/step - loss: 0.6297 - acc: 0.6784\n",
            "Epoch 11/150\n",
            "768/768 [==============================] - 1s 841us/step - loss: 0.6476 - acc: 0.6706\n",
            "Epoch 12/150\n",
            "768/768 [==============================] - 1s 828us/step - loss: 0.6398 - acc: 0.6784\n"
          ],
          "name": "stdout"
        },
        {
          "output_type": "stream",
          "text": [
            "Epoch 13/150\n",
            "768/768 [==============================] - 1s 812us/step - loss: 0.6258 - acc: 0.6810\n",
            "Epoch 14/150\n",
            "768/768 [==============================] - 1s 827us/step - loss: 0.6191 - acc: 0.6953\n",
            "Epoch 15/150\n",
            "768/768 [==============================] - 1s 827us/step - loss: 0.6027 - acc: 0.6914\n",
            "Epoch 16/150\n",
            "768/768 [==============================] - 1s 719us/step - loss: 0.5879 - acc: 0.7018\n",
            "Epoch 17/150\n",
            "768/768 [==============================] - 1s 839us/step - loss: 0.5854 - acc: 0.7005\n",
            "Epoch 18/150\n",
            "768/768 [==============================] - 1s 818us/step - loss: 0.6012 - acc: 0.6849\n",
            "Epoch 19/150\n",
            "768/768 [==============================] - 1s 827us/step - loss: 0.5806 - acc: 0.7109\n",
            "Epoch 20/150\n",
            "768/768 [==============================] - 1s 787us/step - loss: 0.5798 - acc: 0.7174\n",
            "Epoch 21/150\n",
            "768/768 [==============================] - 1s 847us/step - loss: 0.5687 - acc: 0.7161\n",
            "Epoch 22/150\n",
            "768/768 [==============================] - 1s 822us/step - loss: 0.5818 - acc: 0.6966\n",
            "Epoch 23/150\n",
            "768/768 [==============================] - 1s 821us/step - loss: 0.5734 - acc: 0.7083\n",
            "Epoch 24/150\n",
            "768/768 [==============================] - 1s 767us/step - loss: 0.5679 - acc: 0.7305\n",
            "Epoch 25/150\n",
            " 10/768 [..............................] - ETA: 1s - loss: 0.7244 - acc: 0.7000"
          ],
          "name": "stdout"
        },
        {
          "output_type": "stream",
          "text": [
            "768/768 [==============================] - 1s 803us/step - loss: 0.5577 - acc: 0.7344\n",
            "Epoch 26/150\n",
            "768/768 [==============================] - 1s 821us/step - loss: 0.5702 - acc: 0.7044\n",
            "Epoch 27/150\n",
            "768/768 [==============================] - 1s 823us/step - loss: 0.5556 - acc: 0.7240\n",
            "Epoch 28/150\n",
            "768/768 [==============================] - 1s 823us/step - loss: 0.5558 - acc: 0.7292\n",
            "Epoch 29/150\n",
            "768/768 [==============================] - 1s 802us/step - loss: 0.5739 - acc: 0.7135\n",
            "Epoch 30/150\n",
            "768/768 [==============================] - 1s 817us/step - loss: 0.5607 - acc: 0.7214\n",
            "Epoch 31/150\n",
            "768/768 [==============================] - 1s 862us/step - loss: 0.5685 - acc: 0.7161\n",
            "Epoch 32/150\n",
            "768/768 [==============================] - 1s 833us/step - loss: 0.5636 - acc: 0.7148\n",
            "Epoch 33/150\n",
            "768/768 [==============================] - 1s 841us/step - loss: 0.5520 - acc: 0.7201\n",
            "Epoch 34/150\n",
            "768/768 [==============================] - 1s 792us/step - loss: 0.5492 - acc: 0.7318\n",
            "Epoch 35/150\n",
            "768/768 [==============================] - 1s 782us/step - loss: 0.5507 - acc: 0.7201\n",
            "Epoch 36/150\n",
            "768/768 [==============================] - 1s 811us/step - loss: 0.5610 - acc: 0.7083\n",
            "Epoch 37/150\n",
            " 80/768 [==>...........................] - ETA: 0s - loss: 0.4400 - acc: 0.8000"
          ],
          "name": "stdout"
        },
        {
          "output_type": "stream",
          "text": [
            "768/768 [==============================] - 1s 824us/step - loss: 0.5349 - acc: 0.7383\n",
            "Epoch 38/150\n",
            "768/768 [==============================] - 1s 823us/step - loss: 0.5405 - acc: 0.7227\n",
            "Epoch 39/150\n",
            "768/768 [==============================] - 1s 842us/step - loss: 0.5451 - acc: 0.7253\n",
            "Epoch 40/150\n",
            "768/768 [==============================] - 1s 795us/step - loss: 0.5445 - acc: 0.7214\n",
            "Epoch 41/150\n",
            "768/768 [==============================] - 1s 725us/step - loss: 0.5435 - acc: 0.7357\n",
            "Epoch 42/150\n",
            "768/768 [==============================] - 1s 809us/step - loss: 0.5381 - acc: 0.7409\n",
            "Epoch 43/150\n",
            "768/768 [==============================] - 1s 827us/step - loss: 0.5311 - acc: 0.7526\n",
            "Epoch 44/150\n",
            "768/768 [==============================] - 1s 813us/step - loss: 0.5333 - acc: 0.7422\n",
            "Epoch 45/150\n",
            "768/768 [==============================] - 1s 847us/step - loss: 0.5314 - acc: 0.7539\n",
            "Epoch 46/150\n",
            "768/768 [==============================] - 1s 817us/step - loss: 0.5276 - acc: 0.7539\n",
            "Epoch 47/150\n",
            "768/768 [==============================] - 1s 823us/step - loss: 0.5320 - acc: 0.7357\n",
            "Epoch 48/150\n",
            "768/768 [==============================] - 1s 816us/step - loss: 0.5330 - acc: 0.7396\n",
            "Epoch 49/150\n",
            " 80/768 [==>...........................] - ETA: 0s - loss: 0.5972 - acc: 0.6625"
          ],
          "name": "stdout"
        },
        {
          "output_type": "stream",
          "text": [
            "768/768 [==============================] - 1s 858us/step - loss: 0.5324 - acc: 0.7500\n",
            "Epoch 50/150\n",
            "768/768 [==============================] - 1s 753us/step - loss: 0.5264 - acc: 0.7383\n",
            "Epoch 51/150\n",
            "768/768 [==============================] - 1s 751us/step - loss: 0.5281 - acc: 0.7500\n",
            "Epoch 52/150\n",
            "768/768 [==============================] - 1s 769us/step - loss: 0.5304 - acc: 0.7474\n",
            "Epoch 53/150\n",
            "768/768 [==============================] - 1s 692us/step - loss: 0.5387 - acc: 0.7422\n",
            "Epoch 54/150\n",
            "768/768 [==============================] - 1s 822us/step - loss: 0.5372 - acc: 0.7240\n",
            "Epoch 55/150\n",
            "768/768 [==============================] - 1s 668us/step - loss: 0.5220 - acc: 0.7513\n",
            "Epoch 56/150\n",
            "768/768 [==============================] - 1s 902us/step - loss: 0.5277 - acc: 0.7422\n",
            "Epoch 57/150\n",
            "768/768 [==============================] - 1s 853us/step - loss: 0.5307 - acc: 0.7357\n",
            "Epoch 58/150\n",
            "768/768 [==============================] - 1s 858us/step - loss: 0.5225 - acc: 0.7526\n",
            "Epoch 59/150\n",
            "768/768 [==============================] - 1s 844us/step - loss: 0.5119 - acc: 0.7630\n",
            "Epoch 60/150\n",
            "768/768 [==============================] - 1s 820us/step - loss: 0.5334 - acc: 0.7318\n",
            "Epoch 61/150\n",
            "140/768 [====>.........................] - ETA: 0s - loss: 0.5470 - acc: 0.7143"
          ],
          "name": "stdout"
        },
        {
          "output_type": "stream",
          "text": [
            "768/768 [==============================] - 1s 820us/step - loss: 0.5276 - acc: 0.7409\n",
            "Epoch 62/150\n",
            "768/768 [==============================] - 1s 778us/step - loss: 0.5169 - acc: 0.7604\n",
            "Epoch 63/150\n",
            "768/768 [==============================] - 1s 847us/step - loss: 0.5419 - acc: 0.7305\n",
            "Epoch 64/150\n",
            "768/768 [==============================] - 1s 835us/step - loss: 0.5312 - acc: 0.7422\n",
            "Epoch 65/150\n",
            "768/768 [==============================] - 1s 839us/step - loss: 0.5197 - acc: 0.7487\n",
            "Epoch 66/150\n",
            "768/768 [==============================] - 1s 823us/step - loss: 0.5056 - acc: 0.7539\n",
            "Epoch 67/150\n",
            "768/768 [==============================] - 1s 861us/step - loss: 0.5151 - acc: 0.7409\n",
            "Epoch 68/150\n",
            "768/768 [==============================] - 1s 768us/step - loss: 0.5128 - acc: 0.7539\n",
            "Epoch 69/150\n",
            "768/768 [==============================] - 1s 789us/step - loss: 0.5132 - acc: 0.7487\n",
            "Epoch 70/150\n",
            "768/768 [==============================] - 1s 816us/step - loss: 0.5375 - acc: 0.7266\n",
            "Epoch 71/150\n",
            "768/768 [==============================] - 1s 756us/step - loss: 0.5176 - acc: 0.7383\n",
            "Epoch 72/150\n",
            "768/768 [==============================] - 1s 809us/step - loss: 0.5160 - acc: 0.7500\n",
            "Epoch 73/150\n",
            "170/768 [=====>........................] - ETA: 0s - loss: 0.5540 - acc: 0.7235"
          ],
          "name": "stdout"
        },
        {
          "output_type": "stream",
          "text": [
            "768/768 [==============================] - 1s 692us/step - loss: 0.5165 - acc: 0.7448\n",
            "Epoch 74/150\n",
            "768/768 [==============================] - 1s 673us/step - loss: 0.5101 - acc: 0.7630\n",
            "Epoch 75/150\n",
            "768/768 [==============================] - 1s 679us/step - loss: 0.5092 - acc: 0.7591\n",
            "Epoch 76/150\n",
            "768/768 [==============================] - 1s 844us/step - loss: 0.5103 - acc: 0.7578\n",
            "Epoch 77/150\n",
            "768/768 [==============================] - 1s 844us/step - loss: 0.5161 - acc: 0.7630\n",
            "Epoch 78/150\n",
            "768/768 [==============================] - 1s 790us/step - loss: 0.5129 - acc: 0.7552\n",
            "Epoch 79/150\n",
            "768/768 [==============================] - 1s 823us/step - loss: 0.5135 - acc: 0.7513\n",
            "Epoch 80/150\n",
            "768/768 [==============================] - 1s 847us/step - loss: 0.5096 - acc: 0.7617\n",
            "Epoch 81/150\n",
            "768/768 [==============================] - 1s 776us/step - loss: 0.5051 - acc: 0.7708\n",
            "Epoch 82/150\n",
            "768/768 [==============================] - 1s 820us/step - loss: 0.5042 - acc: 0.7578\n",
            "Epoch 83/150\n",
            "768/768 [==============================] - 1s 784us/step - loss: 0.4994 - acc: 0.7643\n",
            "Epoch 84/150\n",
            "768/768 [==============================] - 1s 844us/step - loss: 0.4968 - acc: 0.7643\n",
            "Epoch 85/150\n",
            "170/768 [=====>........................] - ETA: 0s - loss: 0.4410 - acc: 0.7765"
          ],
          "name": "stdout"
        },
        {
          "output_type": "stream",
          "text": [
            "768/768 [==============================] - 1s 802us/step - loss: 0.5048 - acc: 0.7487\n",
            "Epoch 86/150\n",
            "768/768 [==============================] - 1s 888us/step - loss: 0.5051 - acc: 0.7552\n",
            "Epoch 87/150\n",
            "768/768 [==============================] - 1s 829us/step - loss: 0.4988 - acc: 0.7591\n",
            "Epoch 88/150\n",
            "768/768 [==============================] - 1s 836us/step - loss: 0.4994 - acc: 0.7669\n",
            "Epoch 89/150\n",
            "768/768 [==============================] - 1s 866us/step - loss: 0.5037 - acc: 0.7773\n",
            "Epoch 90/150\n",
            "768/768 [==============================] - 1s 817us/step - loss: 0.5094 - acc: 0.7513\n",
            "Epoch 91/150\n",
            "768/768 [==============================] - 1s 855us/step - loss: 0.5024 - acc: 0.7578\n",
            "Epoch 92/150\n",
            "768/768 [==============================] - 1s 810us/step - loss: 0.5058 - acc: 0.7500\n",
            "Epoch 93/150\n",
            "768/768 [==============================] - 1s 819us/step - loss: 0.4993 - acc: 0.7656\n",
            "Epoch 94/150\n",
            "768/768 [==============================] - 1s 853us/step - loss: 0.4970 - acc: 0.7708\n",
            "Epoch 95/150\n",
            "768/768 [==============================] - 1s 810us/step - loss: 0.5033 - acc: 0.7500\n",
            "Epoch 96/150\n",
            "768/768 [==============================] - 1s 741us/step - loss: 0.4907 - acc: 0.7760\n",
            "Epoch 97/150\n"
          ],
          "name": "stdout"
        },
        {
          "output_type": "stream",
          "text": [
            "768/768 [==============================] - 1s 791us/step - loss: 0.5002 - acc: 0.7721\n",
            "Epoch 98/150\n",
            "768/768 [==============================] - 1s 660us/step - loss: 0.4902 - acc: 0.7669\n",
            "Epoch 99/150\n",
            "768/768 [==============================] - 1s 678us/step - loss: 0.4902 - acc: 0.7669\n",
            "Epoch 100/150\n",
            "768/768 [==============================] - 1s 862us/step - loss: 0.4838 - acc: 0.7812\n",
            "Epoch 101/150\n",
            "768/768 [==============================] - 1s 834us/step - loss: 0.4893 - acc: 0.7747\n",
            "Epoch 102/150\n",
            "768/768 [==============================] - 1s 829us/step - loss: 0.4985 - acc: 0.7630\n",
            "Epoch 103/150\n",
            "768/768 [==============================] - 1s 785us/step - loss: 0.4991 - acc: 0.7591\n",
            "Epoch 104/150\n",
            "768/768 [==============================] - 1s 808us/step - loss: 0.4923 - acc: 0.7930\n",
            "Epoch 105/150\n",
            "768/768 [==============================] - 1s 821us/step - loss: 0.5294 - acc: 0.7500\n",
            "Epoch 106/150\n",
            "768/768 [==============================] - 1s 853us/step - loss: 0.4903 - acc: 0.7826\n",
            "Epoch 107/150\n",
            "768/768 [==============================] - 1s 797us/step - loss: 0.4905 - acc: 0.7721\n",
            "Epoch 108/150\n",
            "768/768 [==============================] - 1s 824us/step - loss: 0.4968 - acc: 0.7747\n",
            "Epoch 109/150\n",
            " 10/768 [..............................] - ETA: 0s - loss: 0.2961 - acc: 0.9000"
          ],
          "name": "stdout"
        },
        {
          "output_type": "stream",
          "text": [
            "768/768 [==============================] - 1s 802us/step - loss: 0.4874 - acc: 0.7669\n",
            "Epoch 110/150\n",
            "768/768 [==============================] - 1s 833us/step - loss: 0.4909 - acc: 0.7682\n",
            "Epoch 111/150\n",
            "768/768 [==============================] - 1s 768us/step - loss: 0.4842 - acc: 0.7826\n",
            "Epoch 112/150\n",
            "768/768 [==============================] - 1s 841us/step - loss: 0.4937 - acc: 0.7799\n",
            "Epoch 113/150\n",
            "768/768 [==============================] - 1s 734us/step - loss: 0.4954 - acc: 0.7578\n",
            "Epoch 114/150\n",
            "768/768 [==============================] - 1s 683us/step - loss: 0.4913 - acc: 0.7617\n",
            "Epoch 115/150\n",
            "768/768 [==============================] - 1s 823us/step - loss: 0.4902 - acc: 0.7773\n",
            "Epoch 116/150\n",
            "768/768 [==============================] - 1s 750us/step - loss: 0.4936 - acc: 0.7747\n",
            "Epoch 117/150\n",
            "768/768 [==============================] - 1s 853us/step - loss: 0.4904 - acc: 0.7604\n",
            "Epoch 118/150\n",
            "768/768 [==============================] - 1s 834us/step - loss: 0.4874 - acc: 0.7852\n",
            "Epoch 119/150\n",
            "768/768 [==============================] - 1s 777us/step - loss: 0.4819 - acc: 0.7682\n",
            "Epoch 120/150\n",
            "768/768 [==============================] - 1s 841us/step - loss: 0.4940 - acc: 0.7786\n",
            "Epoch 121/150\n",
            " 10/768 [..............................] - ETA: 1s - loss: 0.4879 - acc: 0.9000"
          ],
          "name": "stdout"
        },
        {
          "output_type": "stream",
          "text": [
            "768/768 [==============================] - 1s 822us/step - loss: 0.4912 - acc: 0.7799\n",
            "Epoch 122/150\n",
            "768/768 [==============================] - 1s 828us/step - loss: 0.4861 - acc: 0.7734\n",
            "Epoch 123/150\n",
            "768/768 [==============================] - 1s 867us/step - loss: 0.4836 - acc: 0.7669\n",
            "Epoch 124/150\n",
            "768/768 [==============================] - 1s 885us/step - loss: 0.4836 - acc: 0.7721\n",
            "Epoch 125/150\n",
            "768/768 [==============================] - 1s 747us/step - loss: 0.4865 - acc: 0.7760\n",
            "Epoch 126/150\n",
            "768/768 [==============================] - 1s 839us/step - loss: 0.4795 - acc: 0.7786\n",
            "Epoch 127/150\n",
            "768/768 [==============================] - 1s 824us/step - loss: 0.4882 - acc: 0.7721\n",
            "Epoch 128/150\n",
            "768/768 [==============================] - 1s 821us/step - loss: 0.4724 - acc: 0.7786\n",
            "Epoch 129/150\n",
            "768/768 [==============================] - 1s 833us/step - loss: 0.4809 - acc: 0.7773\n",
            "Epoch 130/150\n",
            "768/768 [==============================] - 1s 833us/step - loss: 0.4735 - acc: 0.7852\n",
            "Epoch 131/150\n",
            "768/768 [==============================] - 1s 843us/step - loss: 0.4823 - acc: 0.7682\n",
            "Epoch 132/150\n",
            "680/768 [=========================>....] - ETA: 0s - loss: 0.4850 - acc: 0.7794"
          ],
          "name": "stdout"
        },
        {
          "output_type": "stream",
          "text": [
            "768/768 [==============================] - 1s 827us/step - loss: 0.4813 - acc: 0.7839\n",
            "Epoch 133/150\n",
            "768/768 [==============================] - 1s 824us/step - loss: 0.4829 - acc: 0.7695\n",
            "Epoch 134/150\n",
            "768/768 [==============================] - 1s 767us/step - loss: 0.4843 - acc: 0.7734\n",
            "Epoch 135/150\n",
            "768/768 [==============================] - 1s 815us/step - loss: 0.4769 - acc: 0.7773\n",
            "Epoch 136/150\n",
            "768/768 [==============================] - 1s 844us/step - loss: 0.4729 - acc: 0.7826\n",
            "Epoch 137/150\n",
            "768/768 [==============================] - 1s 814us/step - loss: 0.4674 - acc: 0.7826\n",
            "Epoch 138/150\n",
            "768/768 [==============================] - 1s 828us/step - loss: 0.4805 - acc: 0.7839\n",
            "Epoch 139/150\n",
            "768/768 [==============================] - 1s 744us/step - loss: 0.4643 - acc: 0.7917\n",
            "Epoch 140/150\n",
            "768/768 [==============================] - 1s 689us/step - loss: 0.4804 - acc: 0.7852\n",
            "Epoch 141/150\n",
            "768/768 [==============================] - 1s 666us/step - loss: 0.4725 - acc: 0.7839\n",
            "Epoch 142/150\n",
            "768/768 [==============================] - 1s 800us/step - loss: 0.4825 - acc: 0.7799\n",
            "Epoch 143/150\n",
            "768/768 [==============================] - 1s 810us/step - loss: 0.4753 - acc: 0.7721\n",
            "Epoch 144/150\n",
            " 90/768 [==>...........................] - ETA: 0s - loss: 0.5728 - acc: 0.7222"
          ],
          "name": "stdout"
        },
        {
          "output_type": "stream",
          "text": [
            "768/768 [==============================] - 1s 827us/step - loss: 0.4763 - acc: 0.7747\n",
            "Epoch 145/150\n",
            "768/768 [==============================] - 1s 812us/step - loss: 0.4867 - acc: 0.7682\n",
            "Epoch 146/150\n",
            "768/768 [==============================] - 1s 814us/step - loss: 0.4919 - acc: 0.7747\n",
            "Epoch 147/150\n",
            "768/768 [==============================] - 1s 787us/step - loss: 0.4826 - acc: 0.7839\n",
            "Epoch 148/150\n",
            "768/768 [==============================] - 1s 814us/step - loss: 0.4699 - acc: 0.7786\n",
            "Epoch 149/150\n",
            "768/768 [==============================] - 1s 774us/step - loss: 0.4762 - acc: 0.7643\n",
            "Epoch 150/150\n",
            "768/768 [==============================] - 1s 830us/step - loss: 0.4753 - acc: 0.7812\n",
            "768/768 [==============================] - 0s 143us/step\n",
            "\n",
            "acc: 79.30%\n"
          ],
          "name": "stdout"
        }
      ]
    },
    {
      "metadata": {
        "id": "HQwiiKC0_6sv",
        "colab_type": "code",
        "colab": {
          "base_uri": "https://localhost:8080/",
          "height": 73
        },
        "outputId": "1b22d67c-d2e0-4f6e-ab92-a1cb77c7e6c8"
      },
      "cell_type": "code",
      "source": [
        "from google.colab import files\n",
        "uploaded = files.upload()"
      ],
      "execution_count": 4,
      "outputs": [
        {
          "output_type": "display_data",
          "data": {
            "text/html": [
              "\n",
              "     <input type=\"file\" id=\"files-630a2ab0-2707-4c2c-b505-bbbc466fb7c8\" name=\"files[]\" multiple disabled />\n",
              "     <output id=\"result-630a2ab0-2707-4c2c-b505-bbbc466fb7c8\">\n",
              "      Upload widget is only available when the cell has been executed in the\n",
              "      current browser session. Please rerun this cell to enable.\n",
              "      </output>\n",
              "      <script src=\"/nbextensions/google.colab/files.js\"></script> "
            ],
            "text/plain": [
              "<IPython.core.display.HTML object>"
            ]
          },
          "metadata": {
            "tags": []
          }
        },
        {
          "output_type": "stream",
          "text": [
            "Saving pima-indians-diabetes.csv to pima-indians-diabetes (1).csv\n"
          ],
          "name": "stdout"
        }
      ]
    },
    {
      "metadata": {
        "id": "utwqafSXGaTv",
        "colab_type": "code",
        "colab": {
          "base_uri": "https://localhost:8080/",
          "height": 5272
        },
        "outputId": "2e77f1c4-ac38-4482-c588-33017d49c307"
      },
      "cell_type": "code",
      "source": [
        "# MLP with manual validation set\n",
        "from keras.models import Sequential\n",
        "from keras.layers import Dense\n",
        "from sklearn.model_selection import train_test_split\n",
        "import numpy\n",
        "# fix random seed for reproducibility\n",
        "seed = 7\n",
        "numpy.random.seed(seed)\n",
        "# load pima indians dataset\n",
        "dataset = numpy.loadtxt(\"pima-indians-diabetes.csv\", delimiter=\",\")\n",
        "# split into input (X) and output (Y) variables\n",
        "X = dataset[:,0:8]\n",
        "Y = dataset[:,8]\n",
        "# split into 67% for train and 33% for test\n",
        "X_train, X_test, y_train, y_test = train_test_split(X, Y, test_size=0.33, random_state=seed)\n",
        "# create model\n",
        "model = Sequential()\n",
        "model.add(Dense(12, input_dim=8, activation='relu'))\n",
        "model.add(Dense(8, activation='relu'))\n",
        "model.add(Dense(1, activation='sigmoid'))\n",
        "# Compile model\n",
        "model.compile(loss='binary_crossentropy', optimizer='adam', metrics=['accuracy'])\n",
        "# Fit the model\n",
        "model.fit(X_train, y_train, validation_data=(X_test,y_test), epochs=150, batch_size=10)"
      ],
      "execution_count": 5,
      "outputs": [
        {
          "output_type": "stream",
          "text": [
            "Train on 514 samples, validate on 254 samples\n",
            "Epoch 1/150\n",
            "514/514 [==============================] - 1s 1ms/step - loss: 5.5190 - acc: 0.6576 - val_loss: 5.8381 - val_acc: 0.6378\n",
            "Epoch 2/150\n",
            "514/514 [==============================] - 0s 751us/step - loss: 5.5190 - acc: 0.6576 - val_loss: 5.8381 - val_acc: 0.6378\n",
            "Epoch 3/150\n",
            "514/514 [==============================] - 0s 709us/step - loss: 5.5190 - acc: 0.6576 - val_loss: 5.8381 - val_acc: 0.6378\n",
            "Epoch 4/150\n",
            "514/514 [==============================] - 0s 667us/step - loss: 5.5190 - acc: 0.6576 - val_loss: 5.8381 - val_acc: 0.6378\n",
            "Epoch 5/150\n",
            "514/514 [==============================] - 0s 643us/step - loss: 5.5190 - acc: 0.6576 - val_loss: 5.8381 - val_acc: 0.6378\n",
            "Epoch 6/150\n",
            "514/514 [==============================] - 0s 765us/step - loss: 5.5190 - acc: 0.6576 - val_loss: 5.8381 - val_acc: 0.6378\n",
            "Epoch 7/150\n",
            "514/514 [==============================] - 0s 772us/step - loss: 5.5190 - acc: 0.6576 - val_loss: 5.8381 - val_acc: 0.6378\n",
            "Epoch 8/150\n",
            "514/514 [==============================] - 0s 764us/step - loss: 5.5190 - acc: 0.6576 - val_loss: 5.8381 - val_acc: 0.6378\n",
            "Epoch 9/150\n",
            "514/514 [==============================] - 0s 778us/step - loss: 5.5190 - acc: 0.6576 - val_loss: 5.8381 - val_acc: 0.6378\n",
            "Epoch 10/150\n",
            "514/514 [==============================] - 0s 797us/step - loss: 5.5190 - acc: 0.6576 - val_loss: 5.8381 - val_acc: 0.6378\n",
            "Epoch 11/150\n",
            "514/514 [==============================] - 0s 789us/step - loss: 5.5190 - acc: 0.6576 - val_loss: 5.8381 - val_acc: 0.6378\n",
            "Epoch 12/150\n",
            "514/514 [==============================] - 0s 771us/step - loss: 5.5190 - acc: 0.6576 - val_loss: 5.8381 - val_acc: 0.6378\n",
            "Epoch 13/150\n",
            "514/514 [==============================] - 0s 796us/step - loss: 5.5190 - acc: 0.6576 - val_loss: 5.8381 - val_acc: 0.6378\n"
          ],
          "name": "stdout"
        },
        {
          "output_type": "stream",
          "text": [
            "Epoch 14/150\n",
            "514/514 [==============================] - 0s 795us/step - loss: 5.5190 - acc: 0.6576 - val_loss: 5.8381 - val_acc: 0.6378\n",
            "Epoch 15/150\n",
            "514/514 [==============================] - 0s 762us/step - loss: 5.5190 - acc: 0.6576 - val_loss: 5.8381 - val_acc: 0.6378\n",
            "Epoch 16/150\n",
            "514/514 [==============================] - 0s 797us/step - loss: 5.5190 - acc: 0.6576 - val_loss: 5.8381 - val_acc: 0.6378\n",
            "Epoch 17/150\n",
            "514/514 [==============================] - 0s 773us/step - loss: 5.5190 - acc: 0.6576 - val_loss: 5.8381 - val_acc: 0.6378\n",
            "Epoch 18/150\n",
            "514/514 [==============================] - 0s 765us/step - loss: 5.5190 - acc: 0.6576 - val_loss: 5.8381 - val_acc: 0.6378\n",
            "Epoch 19/150\n",
            "514/514 [==============================] - 0s 814us/step - loss: 5.5190 - acc: 0.6576 - val_loss: 5.8381 - val_acc: 0.6378\n",
            "Epoch 20/150\n",
            "514/514 [==============================] - 0s 763us/step - loss: 5.5190 - acc: 0.6576 - val_loss: 5.8381 - val_acc: 0.6378\n",
            "Epoch 21/150\n",
            "514/514 [==============================] - 0s 769us/step - loss: 5.5190 - acc: 0.6576 - val_loss: 5.8381 - val_acc: 0.6378\n",
            "Epoch 22/150\n",
            "514/514 [==============================] - 0s 777us/step - loss: 5.5190 - acc: 0.6576 - val_loss: 5.8381 - val_acc: 0.6378\n",
            "Epoch 23/150\n",
            "514/514 [==============================] - 0s 759us/step - loss: 5.5190 - acc: 0.6576 - val_loss: 5.8381 - val_acc: 0.6378\n",
            "Epoch 24/150\n",
            "514/514 [==============================] - 0s 782us/step - loss: 5.5190 - acc: 0.6576 - val_loss: 5.8381 - val_acc: 0.6378\n",
            "Epoch 25/150\n",
            "514/514 [==============================] - 0s 837us/step - loss: 5.5190 - acc: 0.6576 - val_loss: 5.8381 - val_acc: 0.6378\n",
            "Epoch 26/150\n",
            "514/514 [==============================] - 0s 775us/step - loss: 5.5190 - acc: 0.6576 - val_loss: 5.8381 - val_acc: 0.6378\n",
            "Epoch 27/150\n",
            " 90/514 [====>.........................] - ETA: 0s - loss: 5.3727 - acc: 0.6667"
          ],
          "name": "stdout"
        },
        {
          "output_type": "stream",
          "text": [
            "514/514 [==============================] - 0s 773us/step - loss: 5.5190 - acc: 0.6576 - val_loss: 5.8381 - val_acc: 0.6378\n",
            "Epoch 28/150\n",
            "514/514 [==============================] - 0s 808us/step - loss: 5.5190 - acc: 0.6576 - val_loss: 5.8381 - val_acc: 0.6378\n",
            "Epoch 29/150\n",
            "514/514 [==============================] - 0s 799us/step - loss: 5.5190 - acc: 0.6576 - val_loss: 5.8381 - val_acc: 0.6378\n",
            "Epoch 30/150\n",
            "514/514 [==============================] - 0s 777us/step - loss: 5.5190 - acc: 0.6576 - val_loss: 5.8381 - val_acc: 0.6378\n",
            "Epoch 31/150\n",
            "514/514 [==============================] - 0s 799us/step - loss: 5.5190 - acc: 0.6576 - val_loss: 5.8381 - val_acc: 0.6378\n",
            "Epoch 32/150\n",
            "514/514 [==============================] - 0s 785us/step - loss: 5.5190 - acc: 0.6576 - val_loss: 5.8381 - val_acc: 0.6378\n",
            "Epoch 33/150\n",
            "514/514 [==============================] - 0s 779us/step - loss: 5.5190 - acc: 0.6576 - val_loss: 5.8381 - val_acc: 0.6378\n",
            "Epoch 34/150\n",
            "514/514 [==============================] - 0s 822us/step - loss: 5.5190 - acc: 0.6576 - val_loss: 5.8381 - val_acc: 0.6378\n",
            "Epoch 35/150\n",
            "514/514 [==============================] - 0s 776us/step - loss: 5.5190 - acc: 0.6576 - val_loss: 5.8381 - val_acc: 0.6378\n",
            "Epoch 36/150\n",
            "514/514 [==============================] - 0s 779us/step - loss: 5.5190 - acc: 0.6576 - val_loss: 5.8381 - val_acc: 0.6378\n",
            "Epoch 37/150\n",
            "514/514 [==============================] - 0s 805us/step - loss: 5.5190 - acc: 0.6576 - val_loss: 5.8381 - val_acc: 0.6378\n",
            "Epoch 38/150\n",
            "514/514 [==============================] - 0s 779us/step - loss: 5.5190 - acc: 0.6576 - val_loss: 5.8381 - val_acc: 0.6378\n",
            "Epoch 39/150\n",
            "514/514 [==============================] - 0s 768us/step - loss: 5.5190 - acc: 0.6576 - val_loss: 5.8381 - val_acc: 0.6378\n",
            "Epoch 40/150\n",
            "100/514 [====>.........................] - ETA: 0s - loss: 5.8025 - acc: 0.6400"
          ],
          "name": "stdout"
        },
        {
          "output_type": "stream",
          "text": [
            "514/514 [==============================] - 0s 786us/step - loss: 5.5190 - acc: 0.6576 - val_loss: 5.8381 - val_acc: 0.6378\n",
            "Epoch 41/150\n",
            "514/514 [==============================] - 0s 774us/step - loss: 5.5190 - acc: 0.6576 - val_loss: 5.8381 - val_acc: 0.6378\n",
            "Epoch 42/150\n",
            "514/514 [==============================] - 0s 789us/step - loss: 5.5190 - acc: 0.6576 - val_loss: 5.8381 - val_acc: 0.6378\n",
            "Epoch 43/150\n",
            "514/514 [==============================] - 0s 771us/step - loss: 5.5190 - acc: 0.6576 - val_loss: 5.8381 - val_acc: 0.6378\n",
            "Epoch 44/150\n",
            "514/514 [==============================] - 0s 784us/step - loss: 5.5190 - acc: 0.6576 - val_loss: 5.8381 - val_acc: 0.6378\n",
            "Epoch 45/150\n",
            "514/514 [==============================] - 0s 774us/step - loss: 5.5190 - acc: 0.6576 - val_loss: 5.8381 - val_acc: 0.6378\n",
            "Epoch 46/150\n",
            "514/514 [==============================] - 0s 745us/step - loss: 5.5190 - acc: 0.6576 - val_loss: 5.8381 - val_acc: 0.6378\n",
            "Epoch 47/150\n",
            "514/514 [==============================] - 0s 783us/step - loss: 5.5190 - acc: 0.6576 - val_loss: 5.8381 - val_acc: 0.6378\n",
            "Epoch 48/150\n",
            "514/514 [==============================] - 0s 762us/step - loss: 5.5190 - acc: 0.6576 - val_loss: 5.8381 - val_acc: 0.6378\n",
            "Epoch 49/150\n",
            "514/514 [==============================] - 0s 759us/step - loss: 5.5190 - acc: 0.6576 - val_loss: 5.8381 - val_acc: 0.6378\n",
            "Epoch 50/150\n",
            "514/514 [==============================] - 0s 804us/step - loss: 5.5190 - acc: 0.6576 - val_loss: 5.8381 - val_acc: 0.6378\n",
            "Epoch 51/150\n",
            "514/514 [==============================] - 0s 788us/step - loss: 5.5190 - acc: 0.6576 - val_loss: 5.8381 - val_acc: 0.6378\n",
            "Epoch 52/150\n",
            "514/514 [==============================] - 0s 776us/step - loss: 5.5190 - acc: 0.6576 - val_loss: 5.8381 - val_acc: 0.6378\n",
            "Epoch 53/150\n",
            "170/514 [========>.....................] - ETA: 0s - loss: 5.9732 - acc: 0.6294"
          ],
          "name": "stdout"
        },
        {
          "output_type": "stream",
          "text": [
            "514/514 [==============================] - 0s 812us/step - loss: 5.5190 - acc: 0.6576 - val_loss: 5.8381 - val_acc: 0.6378\n",
            "Epoch 54/150\n",
            "514/514 [==============================] - 0s 769us/step - loss: 5.5190 - acc: 0.6576 - val_loss: 5.8381 - val_acc: 0.6378\n",
            "Epoch 55/150\n",
            "514/514 [==============================] - 0s 769us/step - loss: 5.5190 - acc: 0.6576 - val_loss: 5.8381 - val_acc: 0.6378\n",
            "Epoch 56/150\n",
            "514/514 [==============================] - 0s 808us/step - loss: 5.5190 - acc: 0.6576 - val_loss: 5.8381 - val_acc: 0.6378\n",
            "Epoch 57/150\n",
            "514/514 [==============================] - 0s 772us/step - loss: 5.5190 - acc: 0.6576 - val_loss: 5.8381 - val_acc: 0.6378\n",
            "Epoch 58/150\n",
            "514/514 [==============================] - 0s 775us/step - loss: 5.5190 - acc: 0.6576 - val_loss: 5.8381 - val_acc: 0.6378\n",
            "Epoch 59/150\n",
            "514/514 [==============================] - 0s 812us/step - loss: 5.5190 - acc: 0.6576 - val_loss: 5.8381 - val_acc: 0.6378\n",
            "Epoch 60/150\n",
            "514/514 [==============================] - 0s 770us/step - loss: 5.5190 - acc: 0.6576 - val_loss: 5.8381 - val_acc: 0.6378\n",
            "Epoch 61/150\n",
            "514/514 [==============================] - 0s 762us/step - loss: 5.5190 - acc: 0.6576 - val_loss: 5.8381 - val_acc: 0.6378\n",
            "Epoch 62/150\n",
            "514/514 [==============================] - 0s 798us/step - loss: 5.5190 - acc: 0.6576 - val_loss: 5.8381 - val_acc: 0.6378\n",
            "Epoch 63/150\n",
            "514/514 [==============================] - 0s 771us/step - loss: 5.5190 - acc: 0.6576 - val_loss: 5.8381 - val_acc: 0.6378\n",
            "Epoch 64/150\n",
            "514/514 [==============================] - 0s 765us/step - loss: 5.5190 - acc: 0.6576 - val_loss: 5.8381 - val_acc: 0.6378\n",
            "Epoch 65/150\n",
            "514/514 [==============================] - 0s 804us/step - loss: 5.5190 - acc: 0.6576 - val_loss: 5.8381 - val_acc: 0.6378\n",
            "Epoch 66/150\n",
            " 90/514 [====>.........................] - ETA: 0s - loss: 3.9400 - acc: 0.7556"
          ],
          "name": "stdout"
        },
        {
          "output_type": "stream",
          "text": [
            "514/514 [==============================] - 0s 762us/step - loss: 5.5190 - acc: 0.6576 - val_loss: 5.8381 - val_acc: 0.6378\n",
            "Epoch 67/150\n",
            "514/514 [==============================] - 0s 759us/step - loss: 5.5190 - acc: 0.6576 - val_loss: 5.8381 - val_acc: 0.6378\n",
            "Epoch 68/150\n",
            "514/514 [==============================] - 0s 798us/step - loss: 5.5190 - acc: 0.6576 - val_loss: 5.8381 - val_acc: 0.6378\n",
            "Epoch 69/150\n",
            "514/514 [==============================] - 0s 773us/step - loss: 5.5190 - acc: 0.6576 - val_loss: 5.8381 - val_acc: 0.6378\n",
            "Epoch 70/150\n",
            "514/514 [==============================] - 0s 782us/step - loss: 5.5190 - acc: 0.6576 - val_loss: 5.8381 - val_acc: 0.6378\n",
            "Epoch 71/150\n",
            "514/514 [==============================] - 0s 763us/step - loss: 5.5190 - acc: 0.6576 - val_loss: 5.8381 - val_acc: 0.6378\n",
            "Epoch 72/150\n",
            "514/514 [==============================] - 0s 786us/step - loss: 5.5190 - acc: 0.6576 - val_loss: 5.8381 - val_acc: 0.6378\n",
            "Epoch 73/150\n",
            "514/514 [==============================] - 0s 755us/step - loss: 5.5190 - acc: 0.6576 - val_loss: 5.8381 - val_acc: 0.6378\n",
            "Epoch 74/150\n",
            "514/514 [==============================] - 0s 751us/step - loss: 5.5190 - acc: 0.6576 - val_loss: 5.8381 - val_acc: 0.6378\n",
            "Epoch 75/150\n",
            "514/514 [==============================] - 0s 804us/step - loss: 5.5190 - acc: 0.6576 - val_loss: 5.8381 - val_acc: 0.6378\n",
            "Epoch 76/150\n",
            "514/514 [==============================] - 0s 777us/step - loss: 5.5190 - acc: 0.6576 - val_loss: 5.8381 - val_acc: 0.6378\n",
            "Epoch 77/150\n",
            "514/514 [==============================] - 0s 794us/step - loss: 5.5190 - acc: 0.6576 - val_loss: 5.8381 - val_acc: 0.6378\n",
            "Epoch 78/150\n",
            "514/514 [==============================] - 0s 815us/step - loss: 5.5190 - acc: 0.6576 - val_loss: 5.8381 - val_acc: 0.6378\n",
            "Epoch 79/150\n"
          ],
          "name": "stdout"
        },
        {
          "output_type": "stream",
          "text": [
            "514/514 [==============================] - 0s 788us/step - loss: 5.5190 - acc: 0.6576 - val_loss: 5.8381 - val_acc: 0.6378\n",
            "Epoch 80/150\n",
            "514/514 [==============================] - 0s 786us/step - loss: 5.5190 - acc: 0.6576 - val_loss: 5.8381 - val_acc: 0.6378\n",
            "Epoch 81/150\n",
            "514/514 [==============================] - 0s 788us/step - loss: 5.5190 - acc: 0.6576 - val_loss: 5.8381 - val_acc: 0.6378\n",
            "Epoch 82/150\n",
            "514/514 [==============================] - 0s 757us/step - loss: 5.5190 - acc: 0.6576 - val_loss: 5.8381 - val_acc: 0.6378\n",
            "Epoch 83/150\n",
            "514/514 [==============================] - 0s 763us/step - loss: 5.5190 - acc: 0.6576 - val_loss: 5.8381 - val_acc: 0.6378\n",
            "Epoch 84/150\n",
            "514/514 [==============================] - 0s 802us/step - loss: 5.5190 - acc: 0.6576 - val_loss: 5.8381 - val_acc: 0.6378\n",
            "Epoch 85/150\n",
            "514/514 [==============================] - 0s 772us/step - loss: 5.5190 - acc: 0.6576 - val_loss: 5.8381 - val_acc: 0.6378\n",
            "Epoch 86/150\n",
            "514/514 [==============================] - 0s 781us/step - loss: 5.5190 - acc: 0.6576 - val_loss: 5.8381 - val_acc: 0.6378\n",
            "Epoch 87/150\n",
            "514/514 [==============================] - 0s 804us/step - loss: 5.5190 - acc: 0.6576 - val_loss: 5.8381 - val_acc: 0.6378\n",
            "Epoch 88/150\n",
            "514/514 [==============================] - 0s 788us/step - loss: 5.5190 - acc: 0.6576 - val_loss: 5.8381 - val_acc: 0.6378\n",
            "Epoch 89/150\n",
            "514/514 [==============================] - 0s 774us/step - loss: 5.5190 - acc: 0.6576 - val_loss: 5.8381 - val_acc: 0.6378\n",
            "Epoch 90/150\n",
            "514/514 [==============================] - 0s 794us/step - loss: 5.5190 - acc: 0.6576 - val_loss: 5.8381 - val_acc: 0.6378\n",
            "Epoch 91/150\n",
            "514/514 [==============================] - 0s 768us/step - loss: 5.5190 - acc: 0.6576 - val_loss: 5.8381 - val_acc: 0.6378\n",
            "Epoch 92/150\n",
            " 10/514 [..............................] - ETA: 0s - loss: 8.0590 - acc: 0.5000"
          ],
          "name": "stdout"
        },
        {
          "output_type": "stream",
          "text": [
            "514/514 [==============================] - 0s 787us/step - loss: 5.5190 - acc: 0.6576 - val_loss: 5.8381 - val_acc: 0.6378\n",
            "Epoch 93/150\n",
            "514/514 [==============================] - 0s 791us/step - loss: 5.5190 - acc: 0.6576 - val_loss: 5.8381 - val_acc: 0.6378\n",
            "Epoch 94/150\n",
            "514/514 [==============================] - 0s 763us/step - loss: 5.5190 - acc: 0.6576 - val_loss: 5.8381 - val_acc: 0.6378\n",
            "Epoch 95/150\n",
            "514/514 [==============================] - 0s 771us/step - loss: 5.5190 - acc: 0.6576 - val_loss: 5.8381 - val_acc: 0.6378\n",
            "Epoch 96/150\n",
            "514/514 [==============================] - 0s 791us/step - loss: 5.5190 - acc: 0.6576 - val_loss: 5.8381 - val_acc: 0.6378\n",
            "Epoch 97/150\n",
            "514/514 [==============================] - 0s 770us/step - loss: 5.5190 - acc: 0.6576 - val_loss: 5.8381 - val_acc: 0.6378\n",
            "Epoch 98/150\n",
            "514/514 [==============================] - 0s 763us/step - loss: 5.5190 - acc: 0.6576 - val_loss: 5.8381 - val_acc: 0.6378\n",
            "Epoch 99/150\n",
            "514/514 [==============================] - 0s 789us/step - loss: 5.5190 - acc: 0.6576 - val_loss: 5.8381 - val_acc: 0.6378\n",
            "Epoch 100/150\n",
            "514/514 [==============================] - 0s 761us/step - loss: 5.5190 - acc: 0.6576 - val_loss: 5.8381 - val_acc: 0.6378\n",
            "Epoch 101/150\n",
            "514/514 [==============================] - 0s 765us/step - loss: 5.5190 - acc: 0.6576 - val_loss: 5.8381 - val_acc: 0.6378\n",
            "Epoch 102/150\n",
            "514/514 [==============================] - 0s 764us/step - loss: 5.5190 - acc: 0.6576 - val_loss: 5.8381 - val_acc: 0.6378\n",
            "Epoch 103/150\n",
            "514/514 [==============================] - 0s 791us/step - loss: 5.5190 - acc: 0.6576 - val_loss: 5.8381 - val_acc: 0.6378\n",
            "Epoch 104/150\n",
            "514/514 [==============================] - 0s 771us/step - loss: 5.5190 - acc: 0.6576 - val_loss: 5.8381 - val_acc: 0.6378\n",
            "Epoch 105/150\n",
            " 90/514 [====>.........................] - ETA: 0s - loss: 5.5518 - acc: 0.6556"
          ],
          "name": "stdout"
        },
        {
          "output_type": "stream",
          "text": [
            "514/514 [==============================] - 0s 765us/step - loss: 5.5190 - acc: 0.6576 - val_loss: 5.8381 - val_acc: 0.6378\n",
            "Epoch 106/150\n",
            "514/514 [==============================] - 0s 782us/step - loss: 5.5190 - acc: 0.6576 - val_loss: 5.8381 - val_acc: 0.6378\n",
            "Epoch 107/150\n",
            "514/514 [==============================] - 0s 760us/step - loss: 5.5190 - acc: 0.6576 - val_loss: 5.8381 - val_acc: 0.6378\n",
            "Epoch 108/150\n",
            "514/514 [==============================] - 0s 769us/step - loss: 5.5190 - acc: 0.6576 - val_loss: 5.8381 - val_acc: 0.6378\n",
            "Epoch 109/150\n",
            "514/514 [==============================] - 0s 813us/step - loss: 5.5190 - acc: 0.6576 - val_loss: 5.8381 - val_acc: 0.6378\n",
            "Epoch 110/150\n",
            "514/514 [==============================] - 0s 786us/step - loss: 5.5190 - acc: 0.6576 - val_loss: 5.8381 - val_acc: 0.6378\n",
            "Epoch 111/150\n",
            "514/514 [==============================] - 0s 772us/step - loss: 5.5190 - acc: 0.6576 - val_loss: 5.8381 - val_acc: 0.6378\n",
            "Epoch 112/150\n",
            "514/514 [==============================] - 0s 792us/step - loss: 5.5190 - acc: 0.6576 - val_loss: 5.8381 - val_acc: 0.6378\n",
            "Epoch 113/150\n",
            "514/514 [==============================] - 0s 775us/step - loss: 5.5190 - acc: 0.6576 - val_loss: 5.8381 - val_acc: 0.6378\n",
            "Epoch 114/150\n",
            "514/514 [==============================] - 0s 776us/step - loss: 5.5190 - acc: 0.6576 - val_loss: 5.8381 - val_acc: 0.6378\n",
            "Epoch 115/150\n",
            "514/514 [==============================] - 0s 804us/step - loss: 5.5190 - acc: 0.6576 - val_loss: 5.8381 - val_acc: 0.6378\n",
            "Epoch 116/150\n",
            "514/514 [==============================] - 0s 783us/step - loss: 5.5190 - acc: 0.6576 - val_loss: 5.8381 - val_acc: 0.6378\n",
            "Epoch 117/150\n",
            "514/514 [==============================] - 0s 772us/step - loss: 5.5190 - acc: 0.6576 - val_loss: 5.8381 - val_acc: 0.6378\n",
            "Epoch 118/150\n",
            " 10/514 [..............................] - ETA: 0s - loss: 3.2236 - acc: 0.8000"
          ],
          "name": "stdout"
        },
        {
          "output_type": "stream",
          "text": [
            "514/514 [==============================] - 0s 809us/step - loss: 5.5190 - acc: 0.6576 - val_loss: 5.8381 - val_acc: 0.6378\n",
            "Epoch 119/150\n",
            "514/514 [==============================] - 0s 768us/step - loss: 5.5190 - acc: 0.6576 - val_loss: 5.8381 - val_acc: 0.6378\n",
            "Epoch 120/150\n",
            "514/514 [==============================] - 0s 771us/step - loss: 5.5190 - acc: 0.6576 - val_loss: 5.8381 - val_acc: 0.6378\n",
            "Epoch 121/150\n",
            "514/514 [==============================] - 0s 790us/step - loss: 5.5190 - acc: 0.6576 - val_loss: 5.8381 - val_acc: 0.6378\n",
            "Epoch 122/150\n",
            "514/514 [==============================] - 0s 766us/step - loss: 5.5190 - acc: 0.6576 - val_loss: 5.8381 - val_acc: 0.6378\n",
            "Epoch 123/150\n",
            "514/514 [==============================] - 0s 784us/step - loss: 5.5190 - acc: 0.6576 - val_loss: 5.8381 - val_acc: 0.6378\n",
            "Epoch 124/150\n",
            "514/514 [==============================] - 0s 792us/step - loss: 5.5190 - acc: 0.6576 - val_loss: 5.8381 - val_acc: 0.6378\n",
            "Epoch 125/150\n",
            "514/514 [==============================] - 0s 780us/step - loss: 5.5190 - acc: 0.6576 - val_loss: 5.8381 - val_acc: 0.6378\n",
            "Epoch 126/150\n",
            "514/514 [==============================] - 0s 786us/step - loss: 5.5190 - acc: 0.6576 - val_loss: 5.8381 - val_acc: 0.6378\n",
            "Epoch 127/150\n",
            "514/514 [==============================] - 0s 799us/step - loss: 5.5190 - acc: 0.6576 - val_loss: 5.8381 - val_acc: 0.6378\n",
            "Epoch 128/150\n",
            "514/514 [==============================] - 0s 782us/step - loss: 5.5190 - acc: 0.6576 - val_loss: 5.8381 - val_acc: 0.6378\n",
            "Epoch 129/150\n",
            "514/514 [==============================] - 0s 781us/step - loss: 5.5190 - acc: 0.6576 - val_loss: 5.8381 - val_acc: 0.6378\n",
            "Epoch 130/150\n",
            "514/514 [==============================] - 0s 801us/step - loss: 5.5190 - acc: 0.6576 - val_loss: 5.8381 - val_acc: 0.6378\n"
          ],
          "name": "stdout"
        },
        {
          "output_type": "stream",
          "text": [
            "Epoch 131/150\n",
            "514/514 [==============================] - 0s 777us/step - loss: 5.5190 - acc: 0.6576 - val_loss: 5.8381 - val_acc: 0.6378\n",
            "Epoch 132/150\n",
            "514/514 [==============================] - 0s 781us/step - loss: 5.5190 - acc: 0.6576 - val_loss: 5.8381 - val_acc: 0.6378\n",
            "Epoch 133/150\n",
            "514/514 [==============================] - 0s 798us/step - loss: 5.5190 - acc: 0.6576 - val_loss: 5.8381 - val_acc: 0.6378\n",
            "Epoch 134/150\n",
            "514/514 [==============================] - 0s 786us/step - loss: 5.5190 - acc: 0.6576 - val_loss: 5.8381 - val_acc: 0.6378\n",
            "Epoch 135/150\n",
            "514/514 [==============================] - 0s 775us/step - loss: 5.5190 - acc: 0.6576 - val_loss: 5.8381 - val_acc: 0.6378\n",
            "Epoch 136/150\n",
            "514/514 [==============================] - 0s 761us/step - loss: 5.5190 - acc: 0.6576 - val_loss: 5.8381 - val_acc: 0.6378\n",
            "Epoch 137/150\n",
            "514/514 [==============================] - 0s 801us/step - loss: 5.5190 - acc: 0.6576 - val_loss: 5.8381 - val_acc: 0.6378\n",
            "Epoch 138/150\n",
            "514/514 [==============================] - 0s 771us/step - loss: 5.5190 - acc: 0.6576 - val_loss: 5.8381 - val_acc: 0.6378\n",
            "Epoch 139/150\n",
            "514/514 [==============================] - 0s 784us/step - loss: 5.5190 - acc: 0.6576 - val_loss: 5.8381 - val_acc: 0.6378\n",
            "Epoch 140/150\n",
            "514/514 [==============================] - 0s 801us/step - loss: 5.5190 - acc: 0.6576 - val_loss: 5.8381 - val_acc: 0.6378\n",
            "Epoch 141/150\n",
            "514/514 [==============================] - 0s 773us/step - loss: 5.5190 - acc: 0.6576 - val_loss: 5.8381 - val_acc: 0.6378\n",
            "Epoch 142/150\n",
            "514/514 [==============================] - 0s 775us/step - loss: 5.5190 - acc: 0.6576 - val_loss: 5.8381 - val_acc: 0.6378\n",
            "Epoch 143/150\n",
            "514/514 [==============================] - 0s 793us/step - loss: 5.5190 - acc: 0.6576 - val_loss: 5.8381 - val_acc: 0.6378\n",
            "Epoch 144/150\n",
            " 10/514 [..............................] - ETA: 0s - loss: 6.4472 - acc: 0.6000"
          ],
          "name": "stdout"
        },
        {
          "output_type": "stream",
          "text": [
            "514/514 [==============================] - 0s 775us/step - loss: 5.5190 - acc: 0.6576 - val_loss: 5.8381 - val_acc: 0.6378\n",
            "Epoch 145/150\n",
            "514/514 [==============================] - 0s 770us/step - loss: 5.5190 - acc: 0.6576 - val_loss: 5.8381 - val_acc: 0.6378\n",
            "Epoch 146/150\n",
            "514/514 [==============================] - 0s 799us/step - loss: 5.5190 - acc: 0.6576 - val_loss: 5.8381 - val_acc: 0.6378\n",
            "Epoch 147/150\n",
            "514/514 [==============================] - 0s 767us/step - loss: 5.5190 - acc: 0.6576 - val_loss: 5.8381 - val_acc: 0.6378\n",
            "Epoch 148/150\n",
            "514/514 [==============================] - 0s 783us/step - loss: 5.5190 - acc: 0.6576 - val_loss: 5.8381 - val_acc: 0.6378\n",
            "Epoch 149/150\n",
            "514/514 [==============================] - 0s 795us/step - loss: 5.5190 - acc: 0.6576 - val_loss: 5.8381 - val_acc: 0.6378\n",
            "Epoch 150/150\n",
            "514/514 [==============================] - 0s 752us/step - loss: 5.5190 - acc: 0.6576 - val_loss: 5.8381 - val_acc: 0.6378\n"
          ],
          "name": "stdout"
        },
        {
          "output_type": "execute_result",
          "data": {
            "text/plain": [
              "<keras.callbacks.History at 0x7f50b3aa8438>"
            ]
          },
          "metadata": {
            "tags": []
          },
          "execution_count": 5
        }
      ]
    },
    {
      "metadata": {
        "id": "dC2T6yG6I4em",
        "colab_type": "code",
        "colab": {
          "base_uri": "https://localhost:8080/",
          "height": 5352
        },
        "outputId": "3e87558d-1d7b-4d2e-94d2-5bf3d6781cd9"
      },
      "cell_type": "code",
      "source": [
        "# MLP with automatic validation set\n",
        "from keras.models import Sequential\n",
        "from keras.layers import Dense\n",
        "import numpy\n",
        "# fix random seed for reproducibility\n",
        "numpy.random.seed(7)\n",
        "# load pima indians dataset\n",
        "dataset = numpy.loadtxt(\"pima-indians-diabetes.csv\", delimiter=\",\")\n",
        "# split into input (X) and output (Y) variables\n",
        "X = dataset[:,0:8]\n",
        "Y = dataset[:,8]\n",
        "# create model\n",
        "model = Sequential()\n",
        "model.add(Dense(12, input_dim=8, activation='relu'))\n",
        "model.add(Dense(8, activation='relu'))\n",
        "model.add(Dense(1, activation='sigmoid'))\n",
        "# Compile model\n",
        "model.compile(loss='binary_crossentropy', optimizer='adam', metrics=['accuracy'])\n",
        "# Fit the model\n",
        "model.fit(X, Y, validation_split=0.33, epochs=150, batch_size=10)"
      ],
      "execution_count": 6,
      "outputs": [
        {
          "output_type": "stream",
          "text": [
            "Train on 514 samples, validate on 254 samples\n",
            "Epoch 1/150\n",
            "514/514 [==============================] - 1s 1ms/step - loss: 5.8013 - acc: 0.6401 - val_loss: 5.2669 - val_acc: 0.6732\n",
            "Epoch 2/150\n",
            "514/514 [==============================] - 0s 685us/step - loss: 5.8013 - acc: 0.6401 - val_loss: 5.2669 - val_acc: 0.6732\n",
            "Epoch 3/150\n",
            "514/514 [==============================] - 0s 677us/step - loss: 5.8013 - acc: 0.6401 - val_loss: 5.2669 - val_acc: 0.6732\n",
            "Epoch 4/150\n",
            "514/514 [==============================] - 0s 663us/step - loss: 5.8013 - acc: 0.6401 - val_loss: 5.2669 - val_acc: 0.6732\n",
            "Epoch 5/150\n",
            "514/514 [==============================] - 0s 708us/step - loss: 5.8013 - acc: 0.6401 - val_loss: 5.2669 - val_acc: 0.6732\n",
            "Epoch 6/150\n",
            "514/514 [==============================] - 0s 839us/step - loss: 5.8013 - acc: 0.6401 - val_loss: 5.2669 - val_acc: 0.6732\n",
            "Epoch 7/150\n",
            "514/514 [==============================] - 0s 816us/step - loss: 5.8013 - acc: 0.6401 - val_loss: 5.2669 - val_acc: 0.6732\n",
            "Epoch 8/150\n",
            "514/514 [==============================] - 0s 810us/step - loss: 5.8013 - acc: 0.6401 - val_loss: 5.2669 - val_acc: 0.6732\n",
            "Epoch 9/150\n",
            "514/514 [==============================] - 0s 839us/step - loss: 5.8013 - acc: 0.6401 - val_loss: 5.2669 - val_acc: 0.6732\n",
            "Epoch 10/150\n",
            "514/514 [==============================] - 0s 808us/step - loss: 5.8013 - acc: 0.6401 - val_loss: 5.2669 - val_acc: 0.6732\n",
            "Epoch 11/150\n",
            "514/514 [==============================] - 0s 806us/step - loss: 5.8013 - acc: 0.6401 - val_loss: 5.2669 - val_acc: 0.6732\n",
            "Epoch 12/150\n",
            "514/514 [==============================] - 0s 828us/step - loss: 5.8013 - acc: 0.6401 - val_loss: 5.2669 - val_acc: 0.6732\n",
            "Epoch 13/150\n",
            "460/514 [=========================>....] - ETA: 0s - loss: 5.8866 - acc: 0.6348"
          ],
          "name": "stdout"
        },
        {
          "output_type": "stream",
          "text": [
            "514/514 [==============================] - 0s 810us/step - loss: 5.8013 - acc: 0.6401 - val_loss: 5.2669 - val_acc: 0.6732\n",
            "Epoch 14/150\n",
            "514/514 [==============================] - 0s 831us/step - loss: 5.8013 - acc: 0.6401 - val_loss: 5.2669 - val_acc: 0.6732\n",
            "Epoch 15/150\n",
            "514/514 [==============================] - 0s 818us/step - loss: 5.8013 - acc: 0.6401 - val_loss: 5.2669 - val_acc: 0.6732\n",
            "Epoch 16/150\n",
            "514/514 [==============================] - 0s 802us/step - loss: 5.8013 - acc: 0.6401 - val_loss: 5.2669 - val_acc: 0.6732\n",
            "Epoch 17/150\n",
            "514/514 [==============================] - 0s 819us/step - loss: 5.8013 - acc: 0.6401 - val_loss: 5.2669 - val_acc: 0.6732\n",
            "Epoch 18/150\n",
            "514/514 [==============================] - 0s 828us/step - loss: 5.8013 - acc: 0.6401 - val_loss: 5.2669 - val_acc: 0.6732\n",
            "Epoch 19/150\n",
            "514/514 [==============================] - 0s 802us/step - loss: 5.8013 - acc: 0.6401 - val_loss: 5.2669 - val_acc: 0.6732\n",
            "Epoch 20/150\n",
            "514/514 [==============================] - 0s 820us/step - loss: 5.8013 - acc: 0.6401 - val_loss: 5.2669 - val_acc: 0.6732\n",
            "Epoch 21/150\n",
            "514/514 [==============================] - 0s 864us/step - loss: 5.8013 - acc: 0.6401 - val_loss: 5.2669 - val_acc: 0.6732\n",
            "Epoch 22/150\n",
            "514/514 [==============================] - 0s 802us/step - loss: 5.8013 - acc: 0.6401 - val_loss: 5.2669 - val_acc: 0.6732\n",
            "Epoch 23/150\n",
            "514/514 [==============================] - 0s 851us/step - loss: 5.8013 - acc: 0.6401 - val_loss: 5.2669 - val_acc: 0.6732\n",
            "Epoch 24/150\n",
            "514/514 [==============================] - 0s 824us/step - loss: 5.8013 - acc: 0.6401 - val_loss: 5.2669 - val_acc: 0.6732\n",
            "Epoch 25/150\n",
            "514/514 [==============================] - 0s 807us/step - loss: 5.8013 - acc: 0.6401 - val_loss: 5.2669 - val_acc: 0.6732\n"
          ],
          "name": "stdout"
        },
        {
          "output_type": "stream",
          "text": [
            "Epoch 26/150\n",
            "514/514 [==============================] - 0s 860us/step - loss: 5.8013 - acc: 0.6401 - val_loss: 5.2669 - val_acc: 0.6732\n",
            "Epoch 27/150\n",
            "514/514 [==============================] - 0s 820us/step - loss: 5.8013 - acc: 0.6401 - val_loss: 5.2669 - val_acc: 0.6732\n",
            "Epoch 28/150\n",
            "514/514 [==============================] - 0s 818us/step - loss: 5.8013 - acc: 0.6401 - val_loss: 5.2669 - val_acc: 0.6732\n",
            "Epoch 29/150\n",
            "514/514 [==============================] - 0s 840us/step - loss: 5.8013 - acc: 0.6401 - val_loss: 5.2669 - val_acc: 0.6732\n",
            "Epoch 30/150\n",
            "514/514 [==============================] - 0s 789us/step - loss: 5.8013 - acc: 0.6401 - val_loss: 5.2669 - val_acc: 0.6732\n",
            "Epoch 31/150\n",
            "514/514 [==============================] - 0s 799us/step - loss: 5.8013 - acc: 0.6401 - val_loss: 5.2669 - val_acc: 0.6732\n",
            "Epoch 32/150\n",
            "514/514 [==============================] - 0s 836us/step - loss: 5.8013 - acc: 0.6401 - val_loss: 5.2669 - val_acc: 0.6732\n",
            "Epoch 33/150\n",
            "514/514 [==============================] - 0s 799us/step - loss: 5.8013 - acc: 0.6401 - val_loss: 5.2669 - val_acc: 0.6732\n",
            "Epoch 34/150\n",
            "514/514 [==============================] - 0s 793us/step - loss: 5.8013 - acc: 0.6401 - val_loss: 5.2669 - val_acc: 0.6732\n",
            "Epoch 35/150\n",
            "514/514 [==============================] - 0s 837us/step - loss: 5.8013 - acc: 0.6401 - val_loss: 5.2669 - val_acc: 0.6732\n",
            "Epoch 36/150\n",
            "514/514 [==============================] - 0s 783us/step - loss: 5.8013 - acc: 0.6401 - val_loss: 5.2669 - val_acc: 0.6732\n",
            "Epoch 37/150\n",
            "514/514 [==============================] - 0s 789us/step - loss: 5.8013 - acc: 0.6401 - val_loss: 5.2669 - val_acc: 0.6732\n",
            "Epoch 38/150\n",
            "514/514 [==============================] - 0s 846us/step - loss: 5.8013 - acc: 0.6401 - val_loss: 5.2669 - val_acc: 0.6732\n",
            "Epoch 39/150\n",
            " 90/514 [====>.........................] - ETA: 0s - loss: 5.0145 - acc: 0.6889"
          ],
          "name": "stdout"
        },
        {
          "output_type": "stream",
          "text": [
            "514/514 [==============================] - 0s 810us/step - loss: 5.8013 - acc: 0.6401 - val_loss: 5.2669 - val_acc: 0.6732\n",
            "Epoch 40/150\n",
            "514/514 [==============================] - 0s 820us/step - loss: 5.8013 - acc: 0.6401 - val_loss: 5.2669 - val_acc: 0.6732\n",
            "Epoch 41/150\n",
            "514/514 [==============================] - 0s 870us/step - loss: 5.8013 - acc: 0.6401 - val_loss: 5.2669 - val_acc: 0.6732\n",
            "Epoch 42/150\n",
            "514/514 [==============================] - 0s 808us/step - loss: 5.8013 - acc: 0.6401 - val_loss: 5.2669 - val_acc: 0.6732\n",
            "Epoch 43/150\n",
            "514/514 [==============================] - 0s 821us/step - loss: 5.8013 - acc: 0.6401 - val_loss: 5.2669 - val_acc: 0.6732\n",
            "Epoch 44/150\n",
            "514/514 [==============================] - 0s 871us/step - loss: 5.8013 - acc: 0.6401 - val_loss: 5.2669 - val_acc: 0.6732\n",
            "Epoch 45/150\n",
            "514/514 [==============================] - 0s 795us/step - loss: 5.8013 - acc: 0.6401 - val_loss: 5.2669 - val_acc: 0.6732\n",
            "Epoch 46/150\n",
            "514/514 [==============================] - 0s 790us/step - loss: 5.8013 - acc: 0.6401 - val_loss: 5.2669 - val_acc: 0.6732\n",
            "Epoch 47/150\n",
            "514/514 [==============================] - 0s 862us/step - loss: 5.8013 - acc: 0.6401 - val_loss: 5.2669 - val_acc: 0.6732\n",
            "Epoch 48/150\n",
            "514/514 [==============================] - 0s 834us/step - loss: 5.8013 - acc: 0.6401 - val_loss: 5.2669 - val_acc: 0.6732\n",
            "Epoch 49/150\n",
            "514/514 [==============================] - 0s 804us/step - loss: 5.8013 - acc: 0.6401 - val_loss: 5.2669 - val_acc: 0.6732\n",
            "Epoch 50/150\n",
            "514/514 [==============================] - 0s 826us/step - loss: 5.8013 - acc: 0.6401 - val_loss: 5.2669 - val_acc: 0.6732\n",
            "Epoch 51/150\n",
            "514/514 [==============================] - 0s 803us/step - loss: 5.8013 - acc: 0.6401 - val_loss: 5.2669 - val_acc: 0.6732\n",
            "Epoch 52/150\n"
          ],
          "name": "stdout"
        },
        {
          "output_type": "stream",
          "text": [
            "514/514 [==============================] - 0s 826us/step - loss: 5.8013 - acc: 0.6401 - val_loss: 5.2669 - val_acc: 0.6732\n",
            "Epoch 53/150\n",
            "514/514 [==============================] - 0s 860us/step - loss: 5.8013 - acc: 0.6401 - val_loss: 5.2669 - val_acc: 0.6732\n",
            "Epoch 54/150\n",
            "514/514 [==============================] - 0s 818us/step - loss: 5.8013 - acc: 0.6401 - val_loss: 5.2669 - val_acc: 0.6732\n",
            "Epoch 55/150\n",
            "514/514 [==============================] - 0s 818us/step - loss: 5.8013 - acc: 0.6401 - val_loss: 5.2669 - val_acc: 0.6732\n",
            "Epoch 56/150\n",
            "514/514 [==============================] - 0s 874us/step - loss: 5.8013 - acc: 0.6401 - val_loss: 5.2669 - val_acc: 0.6732\n",
            "Epoch 57/150\n",
            "514/514 [==============================] - 0s 840us/step - loss: 5.8013 - acc: 0.6401 - val_loss: 5.2669 - val_acc: 0.6732\n",
            "Epoch 58/150\n",
            "514/514 [==============================] - 0s 807us/step - loss: 5.8013 - acc: 0.6401 - val_loss: 5.2669 - val_acc: 0.6732\n",
            "Epoch 59/150\n",
            "514/514 [==============================] - 0s 856us/step - loss: 5.8013 - acc: 0.6401 - val_loss: 5.2669 - val_acc: 0.6732\n",
            "Epoch 60/150\n",
            "514/514 [==============================] - 0s 805us/step - loss: 5.8013 - acc: 0.6401 - val_loss: 5.2669 - val_acc: 0.6732\n",
            "Epoch 61/150\n",
            "514/514 [==============================] - 0s 807us/step - loss: 5.8013 - acc: 0.6401 - val_loss: 5.2669 - val_acc: 0.6732\n",
            "Epoch 62/150\n",
            "514/514 [==============================] - 0s 841us/step - loss: 5.8013 - acc: 0.6401 - val_loss: 5.2669 - val_acc: 0.6732\n",
            "Epoch 63/150\n",
            "514/514 [==============================] - 0s 812us/step - loss: 5.8013 - acc: 0.6401 - val_loss: 5.2669 - val_acc: 0.6732\n",
            "Epoch 64/150\n",
            "470/514 [==========================>...] - ETA: 0s - loss: 5.9671 - acc: 0.6298"
          ],
          "name": "stdout"
        },
        {
          "output_type": "stream",
          "text": [
            "\b\b\b\b\b\b\b\b\b\b\b\b\b\b\b\b\b\b\b\b\b\b\b\b\b\b\b\b\b\b\b\b\b\b\b\b\b\b\b\b\b\b\b\b\b\b\b\b\b\b\b\b\b\b\b\b\b\b\b\b\b\b\b\b\b\b\b\b\b\b\b\b\b\b\b\b\b\b\b\r514/514 [==============================] - 0s 813us/step - loss: 5.8013 - acc: 0.6401 - val_loss: 5.2669 - val_acc: 0.6732\n",
            "Epoch 65/150\n",
            "514/514 [==============================] - 0s 856us/step - loss: 5.8013 - acc: 0.6401 - val_loss: 5.2669 - val_acc: 0.6732\n",
            "Epoch 66/150\n",
            "514/514 [==============================] - 0s 802us/step - loss: 5.8013 - acc: 0.6401 - val_loss: 5.2669 - val_acc: 0.6732\n",
            "Epoch 67/150\n",
            "514/514 [==============================] - 0s 834us/step - loss: 5.8013 - acc: 0.6401 - val_loss: 5.2669 - val_acc: 0.6732\n",
            "Epoch 68/150\n",
            "514/514 [==============================] - 0s 827us/step - loss: 5.8013 - acc: 0.6401 - val_loss: 5.2669 - val_acc: 0.6732\n",
            "Epoch 69/150\n",
            "514/514 [==============================] - 0s 801us/step - loss: 5.8013 - acc: 0.6401 - val_loss: 5.2669 - val_acc: 0.6732\n",
            "Epoch 70/150\n",
            "514/514 [==============================] - 0s 838us/step - loss: 5.8013 - acc: 0.6401 - val_loss: 5.2669 - val_acc: 0.6732\n",
            "Epoch 71/150\n",
            "514/514 [==============================] - 0s 803us/step - loss: 5.8013 - acc: 0.6401 - val_loss: 5.2669 - val_acc: 0.6732\n",
            "Epoch 72/150\n",
            "514/514 [==============================] - 0s 813us/step - loss: 5.8013 - acc: 0.6401 - val_loss: 5.2669 - val_acc: 0.6732\n",
            "Epoch 73/150\n",
            "514/514 [==============================] - 0s 874us/step - loss: 5.8013 - acc: 0.6401 - val_loss: 5.2669 - val_acc: 0.6732\n",
            "Epoch 74/150\n",
            "514/514 [==============================] - 0s 805us/step - loss: 5.8013 - acc: 0.6401 - val_loss: 5.2669 - val_acc: 0.6732\n",
            "Epoch 75/150\n",
            "514/514 [==============================] - 0s 814us/step - loss: 5.8013 - acc: 0.6401 - val_loss: 5.2669 - val_acc: 0.6732\n",
            "Epoch 76/150\n",
            " 90/514 [====>.........................] - ETA: 0s - loss: 4.1191 - acc: 0.7444"
          ],
          "name": "stdout"
        },
        {
          "output_type": "stream",
          "text": [
            "514/514 [==============================] - 0s 862us/step - loss: 5.8013 - acc: 0.6401 - val_loss: 5.2669 - val_acc: 0.6732\n",
            "Epoch 77/150\n",
            "514/514 [==============================] - 0s 807us/step - loss: 5.8013 - acc: 0.6401 - val_loss: 5.2669 - val_acc: 0.6732\n",
            "Epoch 78/150\n",
            "514/514 [==============================] - 0s 800us/step - loss: 5.8013 - acc: 0.6401 - val_loss: 5.2669 - val_acc: 0.6732\n",
            "Epoch 79/150\n",
            "514/514 [==============================] - 0s 826us/step - loss: 5.8013 - acc: 0.6401 - val_loss: 5.2669 - val_acc: 0.6732\n",
            "Epoch 80/150\n",
            "514/514 [==============================] - 0s 808us/step - loss: 5.8013 - acc: 0.6401 - val_loss: 5.2669 - val_acc: 0.6732\n",
            "Epoch 81/150\n",
            "514/514 [==============================] - 0s 808us/step - loss: 5.8013 - acc: 0.6401 - val_loss: 5.2669 - val_acc: 0.6732\n",
            "Epoch 82/150\n",
            "514/514 [==============================] - 0s 843us/step - loss: 5.8013 - acc: 0.6401 - val_loss: 5.2669 - val_acc: 0.6732\n",
            "Epoch 83/150\n",
            "514/514 [==============================] - 0s 798us/step - loss: 5.8013 - acc: 0.6401 - val_loss: 5.2669 - val_acc: 0.6732\n",
            "Epoch 84/150\n",
            "514/514 [==============================] - 0s 805us/step - loss: 5.8013 - acc: 0.6401 - val_loss: 5.2669 - val_acc: 0.6732\n",
            "Epoch 85/150\n",
            "514/514 [==============================] - 0s 838us/step - loss: 5.8013 - acc: 0.6401 - val_loss: 5.2669 - val_acc: 0.6732\n",
            "Epoch 86/150\n",
            "514/514 [==============================] - 0s 822us/step - loss: 5.8013 - acc: 0.6401 - val_loss: 5.2669 - val_acc: 0.6732\n",
            "Epoch 87/150\n",
            "514/514 [==============================] - 0s 798us/step - loss: 5.8013 - acc: 0.6401 - val_loss: 5.2669 - val_acc: 0.6732\n",
            "Epoch 88/150\n",
            "514/514 [==============================] - 0s 831us/step - loss: 5.8013 - acc: 0.6401 - val_loss: 5.2669 - val_acc: 0.6732\n"
          ],
          "name": "stdout"
        },
        {
          "output_type": "stream",
          "text": [
            "Epoch 89/150\n",
            "514/514 [==============================] - 0s 789us/step - loss: 5.8013 - acc: 0.6401 - val_loss: 5.2669 - val_acc: 0.6732\n",
            "Epoch 90/150\n",
            "514/514 [==============================] - 0s 808us/step - loss: 5.8013 - acc: 0.6401 - val_loss: 5.2669 - val_acc: 0.6732\n",
            "Epoch 91/150\n",
            "514/514 [==============================] - 0s 841us/step - loss: 5.8013 - acc: 0.6401 - val_loss: 5.2669 - val_acc: 0.6732\n",
            "Epoch 92/150\n",
            "514/514 [==============================] - 0s 820us/step - loss: 5.8013 - acc: 0.6401 - val_loss: 5.2669 - val_acc: 0.6732\n",
            "Epoch 93/150\n",
            "514/514 [==============================] - 0s 804us/step - loss: 5.8013 - acc: 0.6401 - val_loss: 5.2669 - val_acc: 0.6732\n",
            "Epoch 94/150\n",
            "514/514 [==============================] - 0s 841us/step - loss: 5.8013 - acc: 0.6401 - val_loss: 5.2669 - val_acc: 0.6732\n",
            "Epoch 95/150\n",
            "514/514 [==============================] - 0s 814us/step - loss: 5.8013 - acc: 0.6401 - val_loss: 5.2669 - val_acc: 0.6732\n",
            "Epoch 96/150\n",
            "514/514 [==============================] - 0s 829us/step - loss: 5.8013 - acc: 0.6401 - val_loss: 5.2669 - val_acc: 0.6732\n",
            "Epoch 97/150\n",
            "514/514 [==============================] - 0s 844us/step - loss: 5.8013 - acc: 0.6401 - val_loss: 5.2669 - val_acc: 0.6732\n",
            "Epoch 98/150\n",
            "514/514 [==============================] - 0s 801us/step - loss: 5.8013 - acc: 0.6401 - val_loss: 5.2669 - val_acc: 0.6732\n",
            "Epoch 99/150\n",
            "514/514 [==============================] - 0s 804us/step - loss: 5.8013 - acc: 0.6401 - val_loss: 5.2669 - val_acc: 0.6732\n",
            "Epoch 100/150\n",
            "514/514 [==============================] - 0s 843us/step - loss: 5.8013 - acc: 0.6401 - val_loss: 5.2669 - val_acc: 0.6732\n",
            "Epoch 101/150\n",
            "480/514 [===========================>..] - ETA: 0s - loss: 5.8764 - acc: 0.6354"
          ],
          "name": "stdout"
        },
        {
          "output_type": "stream",
          "text": [
            "514/514 [==============================] - 0s 785us/step - loss: 5.8013 - acc: 0.6401 - val_loss: 5.2669 - val_acc: 0.6732\n",
            "Epoch 102/150\n",
            "514/514 [==============================] - 0s 805us/step - loss: 5.8013 - acc: 0.6401 - val_loss: 5.2669 - val_acc: 0.6732\n",
            "Epoch 103/150\n",
            "514/514 [==============================] - 0s 842us/step - loss: 5.8013 - acc: 0.6401 - val_loss: 5.2669 - val_acc: 0.6732\n",
            "Epoch 104/150\n",
            "514/514 [==============================] - 0s 789us/step - loss: 5.8013 - acc: 0.6401 - val_loss: 5.2669 - val_acc: 0.6732\n",
            "Epoch 105/150\n",
            "514/514 [==============================] - 0s 811us/step - loss: 5.8013 - acc: 0.6401 - val_loss: 5.2669 - val_acc: 0.6732\n",
            "Epoch 106/150\n",
            "514/514 [==============================] - 0s 849us/step - loss: 5.8013 - acc: 0.6401 - val_loss: 5.2669 - val_acc: 0.6732\n",
            "Epoch 107/150\n",
            "514/514 [==============================] - 0s 804us/step - loss: 5.8013 - acc: 0.6401 - val_loss: 5.2669 - val_acc: 0.6732\n",
            "Epoch 108/150\n",
            "514/514 [==============================] - 0s 807us/step - loss: 5.8013 - acc: 0.6401 - val_loss: 5.2669 - val_acc: 0.6732\n",
            "Epoch 109/150\n",
            "514/514 [==============================] - 0s 819us/step - loss: 5.8013 - acc: 0.6401 - val_loss: 5.2669 - val_acc: 0.6732\n",
            "Epoch 110/150\n",
            "514/514 [==============================] - 0s 802us/step - loss: 5.8013 - acc: 0.6401 - val_loss: 5.2669 - val_acc: 0.6732\n",
            "Epoch 111/150\n",
            "514/514 [==============================] - 0s 809us/step - loss: 5.8013 - acc: 0.6401 - val_loss: 5.2669 - val_acc: 0.6732\n",
            "Epoch 112/150\n",
            "514/514 [==============================] - 0s 831us/step - loss: 5.8013 - acc: 0.6401 - val_loss: 5.2669 - val_acc: 0.6732\n",
            "Epoch 113/150\n",
            "514/514 [==============================] - 0s 820us/step - loss: 5.8013 - acc: 0.6401 - val_loss: 5.2669 - val_acc: 0.6732\n",
            "Epoch 114/150\n",
            " 10/514 [..............................] - ETA: 0s - loss: 6.4472 - acc: 0.6000"
          ],
          "name": "stdout"
        },
        {
          "output_type": "stream",
          "text": [
            "514/514 [==============================] - 0s 792us/step - loss: 5.8013 - acc: 0.6401 - val_loss: 5.2669 - val_acc: 0.6732\n",
            "Epoch 115/150\n",
            "514/514 [==============================] - 0s 848us/step - loss: 5.8013 - acc: 0.6401 - val_loss: 5.2669 - val_acc: 0.6732\n",
            "Epoch 116/150\n",
            "514/514 [==============================] - 0s 830us/step - loss: 5.8013 - acc: 0.6401 - val_loss: 5.2669 - val_acc: 0.6732\n",
            "Epoch 117/150\n",
            "514/514 [==============================] - 0s 936us/step - loss: 5.8013 - acc: 0.6401 - val_loss: 5.2669 - val_acc: 0.6732\n",
            "Epoch 118/150\n",
            "514/514 [==============================] - 1s 990us/step - loss: 5.8013 - acc: 0.6401 - val_loss: 5.2669 - val_acc: 0.6732\n",
            "Epoch 119/150\n",
            "514/514 [==============================] - 1s 986us/step - loss: 5.8013 - acc: 0.6401 - val_loss: 5.2669 - val_acc: 0.6732\n",
            "Epoch 120/150\n",
            "514/514 [==============================] - 0s 958us/step - loss: 5.8013 - acc: 0.6401 - val_loss: 5.2669 - val_acc: 0.6732\n",
            "Epoch 121/150\n",
            "514/514 [==============================] - 0s 903us/step - loss: 5.8013 - acc: 0.6401 - val_loss: 5.2669 - val_acc: 0.6732\n",
            "Epoch 122/150\n",
            "514/514 [==============================] - 0s 888us/step - loss: 5.8013 - acc: 0.6401 - val_loss: 5.2669 - val_acc: 0.6732\n",
            "Epoch 123/150\n",
            "514/514 [==============================] - 0s 923us/step - loss: 5.8013 - acc: 0.6401 - val_loss: 5.2669 - val_acc: 0.6732\n",
            "Epoch 124/150\n",
            "514/514 [==============================] - 0s 910us/step - loss: 5.8013 - acc: 0.6401 - val_loss: 5.2669 - val_acc: 0.6732\n",
            "Epoch 125/150\n",
            "514/514 [==============================] - 0s 961us/step - loss: 5.8013 - acc: 0.6401 - val_loss: 5.2669 - val_acc: 0.6732\n",
            "Epoch 126/150\n",
            "280/514 [===============>..............] - ETA: 0s - loss: 5.3535 - acc: 0.6679"
          ],
          "name": "stdout"
        },
        {
          "output_type": "stream",
          "text": [
            "514/514 [==============================] - 0s 930us/step - loss: 5.8013 - acc: 0.6401 - val_loss: 5.2669 - val_acc: 0.6732\n",
            "Epoch 127/150\n",
            "514/514 [==============================] - 0s 893us/step - loss: 5.8013 - acc: 0.6401 - val_loss: 5.2669 - val_acc: 0.6732\n",
            "Epoch 128/150\n",
            "514/514 [==============================] - 0s 915us/step - loss: 5.8013 - acc: 0.6401 - val_loss: 5.2669 - val_acc: 0.6732\n",
            "Epoch 129/150\n",
            "514/514 [==============================] - 0s 892us/step - loss: 5.8013 - acc: 0.6401 - val_loss: 5.2669 - val_acc: 0.6732\n",
            "Epoch 130/150\n",
            "514/514 [==============================] - 0s 889us/step - loss: 5.8013 - acc: 0.6401 - val_loss: 5.2669 - val_acc: 0.6732\n",
            "Epoch 131/150\n",
            "514/514 [==============================] - 0s 917us/step - loss: 5.8013 - acc: 0.6401 - val_loss: 5.2669 - val_acc: 0.6732\n",
            "Epoch 132/150\n",
            "514/514 [==============================] - 0s 859us/step - loss: 5.8013 - acc: 0.6401 - val_loss: 5.2669 - val_acc: 0.6732\n",
            "Epoch 133/150\n",
            "514/514 [==============================] - 0s 811us/step - loss: 5.8013 - acc: 0.6401 - val_loss: 5.2669 - val_acc: 0.6732\n",
            "Epoch 134/150\n",
            "514/514 [==============================] - 0s 846us/step - loss: 5.8013 - acc: 0.6401 - val_loss: 5.2669 - val_acc: 0.6732\n",
            "Epoch 135/150\n",
            "514/514 [==============================] - 0s 792us/step - loss: 5.8013 - acc: 0.6401 - val_loss: 5.2669 - val_acc: 0.6732\n",
            "Epoch 136/150\n",
            "514/514 [==============================] - 0s 791us/step - loss: 5.8013 - acc: 0.6401 - val_loss: 5.2669 - val_acc: 0.6732\n",
            "Epoch 137/150\n",
            "514/514 [==============================] - 0s 816us/step - loss: 5.8013 - acc: 0.6401 - val_loss: 5.2669 - val_acc: 0.6732\n",
            "Epoch 138/150\n",
            "514/514 [==============================] - 0s 795us/step - loss: 5.8013 - acc: 0.6401 - val_loss: 5.2669 - val_acc: 0.6732\n"
          ],
          "name": "stdout"
        },
        {
          "output_type": "stream",
          "text": [
            "Epoch 139/150\n",
            "514/514 [==============================] - 0s 791us/step - loss: 5.8013 - acc: 0.6401 - val_loss: 5.2669 - val_acc: 0.6732\n",
            "Epoch 140/150\n",
            "514/514 [==============================] - 0s 820us/step - loss: 5.8013 - acc: 0.6401 - val_loss: 5.2669 - val_acc: 0.6732\n",
            "Epoch 141/150\n",
            "514/514 [==============================] - 0s 787us/step - loss: 5.8013 - acc: 0.6401 - val_loss: 5.2669 - val_acc: 0.6732\n",
            "Epoch 142/150\n",
            "514/514 [==============================] - 0s 811us/step - loss: 5.8013 - acc: 0.6401 - val_loss: 5.2669 - val_acc: 0.6732\n",
            "Epoch 143/150\n",
            "514/514 [==============================] - 0s 877us/step - loss: 5.8013 - acc: 0.6401 - val_loss: 5.2669 - val_acc: 0.6732\n",
            "Epoch 144/150\n",
            "514/514 [==============================] - 0s 786us/step - loss: 5.8013 - acc: 0.6401 - val_loss: 5.2669 - val_acc: 0.6732\n",
            "Epoch 145/150\n",
            "514/514 [==============================] - 0s 788us/step - loss: 5.8013 - acc: 0.6401 - val_loss: 5.2669 - val_acc: 0.6732\n",
            "Epoch 146/150\n",
            "514/514 [==============================] - 0s 823us/step - loss: 5.8013 - acc: 0.6401 - val_loss: 5.2669 - val_acc: 0.6732\n",
            "Epoch 147/150\n",
            "514/514 [==============================] - 0s 794us/step - loss: 5.8013 - acc: 0.6401 - val_loss: 5.2669 - val_acc: 0.6732\n",
            "Epoch 148/150\n",
            "514/514 [==============================] - 0s 842us/step - loss: 5.8013 - acc: 0.6401 - val_loss: 5.2669 - val_acc: 0.6732\n",
            "Epoch 149/150\n",
            "514/514 [==============================] - 0s 819us/step - loss: 5.8013 - acc: 0.6401 - val_loss: 5.2669 - val_acc: 0.6732\n",
            "Epoch 150/150\n",
            "514/514 [==============================] - 0s 820us/step - loss: 5.8013 - acc: 0.6401 - val_loss: 5.2669 - val_acc: 0.6732\n"
          ],
          "name": "stdout"
        },
        {
          "output_type": "execute_result",
          "data": {
            "text/plain": [
              "<keras.callbacks.History at 0x7f50b2bc0dd8>"
            ]
          },
          "metadata": {
            "tags": []
          },
          "execution_count": 6
        }
      ]
    },
    {
      "metadata": {
        "id": "LjELvMzSJykm",
        "colab_type": "code",
        "colab": {
          "base_uri": "https://localhost:8080/",
          "height": 211
        },
        "outputId": "17b32f2d-3e97-4dfb-8506-7cb2a5b9eaa5"
      },
      "cell_type": "code",
      "source": [
        "# MLP for Pima Indians Dataset with 10-fold cross validation\n",
        "from keras.models import Sequential\n",
        "from keras.layers import Dense\n",
        "from sklearn.model_selection import StratifiedKFold\n",
        "import numpy\n",
        "# fix random seed for reproducibility\n",
        "seed = 7\n",
        "numpy.random.seed(seed)\n",
        "# load pima indians dataset\n",
        "dataset = numpy.loadtxt(\"pima-indians-diabetes.csv\", delimiter=\",\")\n",
        "# split into input (X) and output (Y) variables\n",
        "X = dataset[:,0:8]\n",
        "Y = dataset[:,8]\n",
        "# define 10-fold cross validation test harness\n",
        "kfold = StratifiedKFold(n_splits=10, shuffle=True, random_state=seed)\n",
        "cvscores = []\n",
        "for train, test in kfold.split(X, Y):\n",
        "  # create model\n",
        "\tmodel = Sequential()\n",
        "\tmodel.add(Dense(12, input_dim=8, activation='relu'))\n",
        "\tmodel.add(Dense(8, activation='relu'))\n",
        "\tmodel.add(Dense(1, activation='sigmoid'))\n",
        "\t# Compile model\n",
        "\tmodel.compile(loss='binary_crossentropy', optimizer='adam', metrics=['accuracy'])\n",
        "\t# Fit the model\n",
        "\tmodel.fit(X[train], Y[train], epochs=150, batch_size=10, verbose=0)\n",
        "\t# evaluate the model\n",
        "\tscores = model.evaluate(X[test], Y[test], verbose=0)\n",
        "\tprint(\"%s: %.2f%%\" % (model.metrics_names[1], scores[1]*100))\n",
        "\tcvscores.append(scores[1] * 100)\n",
        "print(\"%.2f%% (+/- %.2f%%)\" % (numpy.mean(cvscores), numpy.std(cvscores)))"
      ],
      "execution_count": 7,
      "outputs": [
        {
          "output_type": "stream",
          "text": [
            "acc: 76.62%\n",
            "acc: 75.32%\n",
            "acc: 67.53%\n",
            "acc: 81.82%\n",
            "acc: 79.22%\n",
            "acc: 64.94%\n",
            "acc: 66.23%\n",
            "acc: 64.94%\n",
            "acc: 63.16%\n",
            "acc: 71.05%\n",
            "71.08% (+/- 6.36%)\n"
          ],
          "name": "stdout"
        }
      ]
    },
    {
      "metadata": {
        "id": "6HpyBHeI7npp",
        "colab_type": "code",
        "colab": {
          "base_uri": "https://localhost:8080/",
          "height": 439
        },
        "outputId": "747f6581-f9b1-4500-8dd3-7de27233578a"
      },
      "cell_type": "code",
      "source": [
        "# Baseline MLP for MNIST dataset\n",
        "import numpy\n",
        "from keras.datasets import mnist\n",
        "from keras.models import Sequential\n",
        "from keras.layers import Dense\n",
        "from keras.utils import np_utils\n",
        "# fix random seed for reproducibility\n",
        "seed = 7\n",
        "numpy.random.seed(seed)\n",
        "# load data\n",
        "(X_train, y_train), (X_test, y_test) = mnist.load_data()\n",
        "# flatten 28*28 images to a 784 vector for each image\n",
        "num_pixels = X_train.shape[1] * X_train.shape[2]\n",
        "X_train = X_train.reshape(X_train.shape[0], num_pixels).astype('float32')\n",
        "X_test = X_test.reshape(X_test.shape[0], num_pixels).astype('float32')\n",
        "# normalize inputs from 0-255 to 0-1\n",
        "X_train = X_train / 255\n",
        "X_test = X_test / 255\n",
        "# one hot encode outputs\n",
        "y_train = np_utils.to_categorical(y_train)\n",
        "y_test = np_utils.to_categorical(y_test)\n",
        "num_classes = y_test.shape[1]\n",
        "# define baseline model\n",
        "def baseline_model():\n",
        "\t# create model\n",
        "\tmodel = Sequential()\n",
        "\tmodel.add(Dense(num_pixels, input_dim=num_pixels, kernel_initializer='normal', activation='relu'))\n",
        "\tmodel.add(Dense(num_classes, kernel_initializer='normal', activation='softmax'))\n",
        "\t# Compile model\n",
        "\tmodel.compile(loss='categorical_crossentropy', optimizer='adam', metrics=['accuracy'])\n",
        "\treturn model\n",
        "# build the model\n",
        "model = baseline_model()\n",
        "# Fit the model\n",
        "model.fit(X_train, y_train, validation_data=(X_test, y_test), epochs=10, batch_size=200, verbose=2)\n",
        "# Final evaluation of the model\n",
        "scores = model.evaluate(X_test, y_test, verbose=0)\n",
        "print(\"Baseline Error: %.2f%%\" % (100-scores[1]*100))"
      ],
      "execution_count": 8,
      "outputs": [
        {
          "output_type": "stream",
          "text": [
            "Downloading data from https://s3.amazonaws.com/img-datasets/mnist.npz\n",
            "11493376/11490434 [==============================] - 2s 0us/step\n",
            "Train on 60000 samples, validate on 10000 samples\n",
            "Epoch 1/10\n",
            " - 3s - loss: 0.2810 - acc: 0.9207 - val_loss: 0.1413 - val_acc: 0.9574\n",
            "Epoch 2/10\n",
            " - 2s - loss: 0.1116 - acc: 0.9678 - val_loss: 0.0911 - val_acc: 0.9713\n",
            "Epoch 3/10\n",
            " - 2s - loss: 0.0713 - acc: 0.9799 - val_loss: 0.0780 - val_acc: 0.9774\n",
            "Epoch 4/10\n",
            " - 2s - loss: 0.0503 - acc: 0.9857 - val_loss: 0.0746 - val_acc: 0.9766\n",
            "Epoch 5/10\n",
            " - 2s - loss: 0.0372 - acc: 0.9891 - val_loss: 0.0674 - val_acc: 0.9792\n",
            "Epoch 6/10\n",
            " - 2s - loss: 0.0267 - acc: 0.9928 - val_loss: 0.0623 - val_acc: 0.9808\n",
            "Epoch 7/10\n",
            " - 2s - loss: 0.0204 - acc: 0.9949 - val_loss: 0.0617 - val_acc: 0.9813\n",
            "Epoch 8/10\n",
            " - 2s - loss: 0.0138 - acc: 0.9970 - val_loss: 0.0613 - val_acc: 0.9807\n",
            "Epoch 9/10\n",
            " - 2s - loss: 0.0107 - acc: 0.9978 - val_loss: 0.0575 - val_acc: 0.9820\n",
            "Epoch 10/10\n",
            " - 2s - loss: 0.0081 - acc: 0.9984 - val_loss: 0.0589 - val_acc: 0.9815\n",
            "Baseline Error: 1.85%\n"
          ],
          "name": "stdout"
        }
      ]
    },
    {
      "metadata": {
        "id": "1nNCqsek7_eG",
        "colab_type": "code",
        "colab": {
          "base_uri": "https://localhost:8080/",
          "height": 424
        },
        "outputId": "7bba7eab-7e83-415f-bc87-851804f8f900"
      },
      "cell_type": "code",
      "source": [
        "# Larger CNN for the MNIST Dataset\n",
        "import numpy\n",
        "from keras.datasets import mnist\n",
        "from keras.models import Sequential\n",
        "from keras.layers import Dense\n",
        "from keras.layers import Dropout\n",
        "from keras.layers import Flatten\n",
        "from keras.layers.convolutional import Conv2D\n",
        "from keras.layers.convolutional import MaxPooling2D\n",
        "from keras.utils import np_utils\n",
        "from keras import backend as K\n",
        "K.set_image_dim_ordering('th')\n",
        "# fix random seed for reproducibility\n",
        "seed = 7\n",
        "numpy.random.seed(seed)\n",
        "# load data\n",
        "(X_train, y_train), (X_test, y_test) = mnist.load_data()\n",
        "# reshape to be [samples][pixels][width][height]\n",
        "X_train = X_train.reshape(X_train.shape[0], 1, 28, 28).astype('float32')\n",
        "X_test = X_test.reshape(X_test.shape[0], 1, 28, 28).astype('float32')\n",
        "# normalize inputs from 0-255 to 0-1\n",
        "X_train = X_train / 255\n",
        "X_test = X_test / 255\n",
        "# one hot encode outputs\n",
        "y_train = np_utils.to_categorical(y_train)\n",
        "y_test = np_utils.to_categorical(y_test)\n",
        "num_classes = y_test.shape[1]\n",
        "# define the larger model\n",
        "def larger_model():\n",
        "\t# create model\n",
        "\tmodel = Sequential()\n",
        "\tmodel.add(Conv2D(30, (5, 5), input_shape=(1, 28, 28), activation='relu'))\n",
        "\tmodel.add(MaxPooling2D(pool_size=(2, 2)))\n",
        "\tmodel.add(Conv2D(15, (3, 3), activation='relu'))\n",
        "\tmodel.add(MaxPooling2D(pool_size=(2, 2)))\n",
        "\tmodel.add(Dropout(0.2))\n",
        "\tmodel.add(Flatten())\n",
        "\tmodel.add(Dense(128, activation='relu'))\n",
        "\tmodel.add(Dense(50, activation='relu'))\n",
        "\tmodel.add(Dense(num_classes, activation='softmax'))\n",
        "\t# Compile model\n",
        "\tmodel.compile(loss='categorical_crossentropy', optimizer='adam', metrics=['accuracy'])\n",
        "\treturn model\n",
        "# build the model\n",
        "model = larger_model()\n",
        "# Fit the model\n",
        "model.fit(X_train, y_train, validation_data=(X_test, y_test), epochs=10, batch_size=200)\n",
        "# Final evaluation of the model\n",
        "scores = model.evaluate(X_test, y_test, verbose=0)\n",
        "print(\"Large CNN Error: %.2f%%\" % (100-scores[1]*100))\n"
      ],
      "execution_count": 9,
      "outputs": [
        {
          "output_type": "stream",
          "text": [
            "Train on 60000 samples, validate on 10000 samples\n",
            "Epoch 1/10\n",
            "60000/60000 [==============================] - 7s 118us/step - loss: 0.4012 - acc: 0.8761 - val_loss: 0.1021 - val_acc: 0.9683\n",
            "Epoch 2/10\n",
            "60000/60000 [==============================] - 5s 86us/step - loss: 0.0981 - acc: 0.9697 - val_loss: 0.0563 - val_acc: 0.9829\n",
            "Epoch 3/10\n",
            "60000/60000 [==============================] - 5s 87us/step - loss: 0.0706 - acc: 0.9780 - val_loss: 0.0378 - val_acc: 0.9885\n",
            "Epoch 4/10\n",
            "34800/60000 [================>.............] - ETA: 2s - loss: 0.0583 - acc: 0.9823"
          ],
          "name": "stdout"
        },
        {
          "output_type": "stream",
          "text": [
            "60000/60000 [==============================] - 5s 86us/step - loss: 0.0571 - acc: 0.9821 - val_loss: 0.0333 - val_acc: 0.9892\n",
            "Epoch 5/10\n",
            "60000/60000 [==============================] - 5s 83us/step - loss: 0.0488 - acc: 0.9849 - val_loss: 0.0315 - val_acc: 0.9899\n",
            "Epoch 6/10\n",
            "60000/60000 [==============================] - 5s 84us/step - loss: 0.0434 - acc: 0.9865 - val_loss: 0.0264 - val_acc: 0.9909\n",
            "Epoch 7/10\n",
            "60000/60000 [==============================] - 5s 83us/step - loss: 0.0391 - acc: 0.9879 - val_loss: 0.0275 - val_acc: 0.9909\n",
            "Epoch 8/10\n",
            "14800/60000 [======>.......................] - ETA: 3s - loss: 0.0300 - acc: 0.9897"
          ],
          "name": "stdout"
        },
        {
          "output_type": "stream",
          "text": [
            "60000/60000 [==============================] - 5s 83us/step - loss: 0.0347 - acc: 0.9891 - val_loss: 0.0243 - val_acc: 0.9917\n",
            "Epoch 9/10\n",
            "60000/60000 [==============================] - 5s 82us/step - loss: 0.0327 - acc: 0.9894 - val_loss: 0.0216 - val_acc: 0.9935\n",
            "Epoch 10/10\n",
            "60000/60000 [==============================] - 5s 82us/step - loss: 0.0285 - acc: 0.9910 - val_loss: 0.0209 - val_acc: 0.9929\n",
            "Large CNN Error: 0.71%\n"
          ],
          "name": "stdout"
        }
      ]
    },
    {
      "metadata": {
        "id": "50PqGJiu8RhG",
        "colab_type": "text"
      },
      "cell_type": "markdown",
      "source": [
        "# New Section"
      ]
    }
  ]
}